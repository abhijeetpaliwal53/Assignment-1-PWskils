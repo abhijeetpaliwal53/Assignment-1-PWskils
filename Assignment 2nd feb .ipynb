{
 "cells": [
  {
   "cell_type": "markdown",
   "id": "27ecdc2b-b738-4a3e-83a9-2d557d93147e",
   "metadata": {},
   "source": [
    "# ANS 1 = A for loop is used when you want to iterate over a sequence (such as a list, tuple, or string) and execute a block of code for each item in the sequence."
   ]
  },
  {
   "cell_type": "code",
   "execution_count": 3,
   "id": "f2422206-06ae-4c73-bd32-b27b1db295a1",
   "metadata": {},
   "outputs": [
    {
     "name": "stdout",
     "output_type": "stream",
     "text": [
      "Yash\n",
      "1\n",
      "2\n",
      "5\n",
      "3\n",
      "{8, 9, 5, 6}\n",
      "('Abhijeet', 'Paliwal')\n"
     ]
    }
   ],
   "source": [
    "l=[\"Yash\",1,2,5,3,{5,6,8,9},(\"Abhijeet\",\"Paliwal\")]\n",
    "for i in l:\n",
    "    print(i)"
   ]
  },
  {
   "cell_type": "markdown",
   "id": "68b8e44c-f9af-461d-9219-48915fdce808",
   "metadata": {},
   "source": [
    "# While loop is used when you want to keep execute a block until the condition is true"
   ]
  },
  {
   "cell_type": "code",
   "execution_count": 18,
   "id": "0a13f343-2f4d-4224-8cec-6341615b133d",
   "metadata": {},
   "outputs": [
    {
     "name": "stdout",
     "output_type": "stream",
     "text": [
      "Abhijeet\n",
      "Abhijeet\n",
      "Abhijeet\n",
      "Abhijeet\n",
      "Abhijeet\n",
      "Abhijeet\n",
      "Abhijeet\n",
      "Abhijeet\n",
      "Abhijeet\n",
      "Abhijeet\n"
     ]
    }
   ],
   "source": [
    "i=0\n",
    "while i<10:\n",
    "    print( \"Abhijeet\")\n",
    "    i+=1"
   ]
  },
  {
   "cell_type": "markdown",
   "id": "e741afa0-0ac4-4cfd-9a82-262039d526a8",
   "metadata": {
    "jp-MarkdownHeadingCollapsed": true,
    "tags": []
   },
   "source": [
    "# ANS 2"
   ]
  },
  {
   "cell_type": "markdown",
   "id": "ce57cf90-751f-418c-8161-590895cf2d09",
   "metadata": {},
   "source": [
    "# using for loop\n",
    "# product of 10 natural no"
   ]
  },
  {
   "cell_type": "code",
   "execution_count": 21,
   "id": "2a2e4fb5-caa7-4293-a130-18fd1174a37d",
   "metadata": {},
   "outputs": [
    {
     "name": "stdout",
     "output_type": "stream",
     "text": [
      "3628800\n"
     ]
    }
   ],
   "source": [
    "product=1\n",
    "for i in range(1,11):\n",
    "    product*=i\n",
    "print(product)"
   ]
  },
  {
   "cell_type": "markdown",
   "id": "1901ebee-c893-4600-8d79-c9ab7dd6bad8",
   "metadata": {},
   "source": [
    "# using while loop\n",
    "# sum of 10 natural no"
   ]
  },
  {
   "cell_type": "code",
   "execution_count": 31,
   "id": "74b34ea6-b7cd-4434-b222-921120db5950",
   "metadata": {},
   "outputs": [
    {
     "name": "stdout",
     "output_type": "stream",
     "text": [
      "55\n"
     ]
    }
   ],
   "source": [
    "i=0\n",
    "sum=0\n",
    "while i<11:\n",
    "    sum+=i\n",
    "    i+=1\n",
    "print(sum)"
   ]
  },
  {
   "cell_type": "markdown",
   "id": "486c46fe-71c2-4d14-98bd-4a11fea82cb4",
   "metadata": {},
   "source": [
    "# ANS 3"
   ]
  },
  {
   "cell_type": "code",
   "execution_count": 46,
   "id": "404113a5-d695-49d5-8e1c-e01c9389c567",
   "metadata": {},
   "outputs": [
    {
     "name": "stdin",
     "output_type": "stream",
     "text": [
      "Enter the units consumed :  310\n"
     ]
    },
    {
     "name": "stdout",
     "output_type": "stream",
     "text": [
      "Your Paying Bill Amount is : 2250.0\n",
      "Toital number of Units : 310\n"
     ]
    }
   ],
   "source": [
    "unit = int(input (\"Enter the units consumed : \"))\n",
    "bill = 0\n",
    "if unit<=100:\n",
    "    bill = unit * 4.5\n",
    "    print (\"Your Paying Bill Amount is under 100 Units :\", bill)\n",
    "    \n",
    "elif unit <= 200:\n",
    "    bill = 100 * 4.5 + (unit - 100) * 6\n",
    "    print (\"Your Paying Bill Amount is under 200 Units :\", bill)\n",
    "    \n",
    "elif unit <=300:\n",
    "    bill = 100 * 4.5 + 100 * 6 + (unit - 200) * 10\n",
    "    print (\"Your Paying Bill Amount is under 300 Units :\", bill)\n",
    "    \n",
    "else:\n",
    "    bill=100*4.5+100*6+100*10+(unit-300)*20\n",
    "    print (\"Your Paying Bill Amount is :\",  bill)\n",
    "\n",
    "print (\"Toital number of Units :\", unit)\n"
   ]
  },
  {
   "cell_type": "markdown",
   "id": "f4667dd2-5afa-47b9-8d2a-ce52b9bd69a4",
   "metadata": {},
   "source": [
    "# ANS 4"
   ]
  },
  {
   "cell_type": "raw",
   "id": "c9ea9137-cfef-4f04-b6dd-74f86d202817",
   "metadata": {},
   "source": [
    "#For Loop"
   ]
  },
  {
   "cell_type": "code",
   "execution_count": 52,
   "id": "98e58695-be87-4cd1-9144-9878a1252058",
   "metadata": {},
   "outputs": [
    {
     "name": "stdout",
     "output_type": "stream",
     "text": [
      "[0, 1000, 8000, 27000, 64000, 125000, 216000, 343000, 512000, 729000]\n"
     ]
    }
   ],
   "source": [
    "list = []\n",
    "for i in range (100):\n",
    "    cube = i**3\n",
    "    #print(cube)\n",
    "    if cube%4==0 and cube%5==0:\n",
    "        list.append(cube)\n",
    "print(list)\n",
    "#     if (cube/4) and (cube/5):\n",
    "#     list.append(cube)\n",
    "# print(list)"
   ]
  },
  {
   "cell_type": "code",
   "execution_count": 51,
   "id": "19f3e076-fca0-4bee-8787-9074e085fc0f",
   "metadata": {},
   "outputs": [
    {
     "name": "stdout",
     "output_type": "stream",
     "text": [
      "[0, 1000, 8000, 27000, 64000, 125000, 216000, 343000, 512000, 729000]\n"
     ]
    }
   ],
   "source": [
    "i = 0\n",
    "list = []\n",
    "while i<100:\n",
    "    cube=i**3\n",
    "    # print(cube)\n",
    "    if cube%4==0 and cube%5==0:\n",
    "        list.append(cube)\n",
    "    i+=1\n",
    "print(list)"
   ]
  },
  {
   "cell_type": "markdown",
   "id": "b23779ba-c058-4e96-9caa-2435d02ea3a3",
   "metadata": {},
   "source": [
    "# Ans 5"
   ]
  },
  {
   "cell_type": "code",
   "execution_count": 54,
   "id": "33dbe1d9-a76c-4916-b5f6-80f1a26d974d",
   "metadata": {},
   "outputs": [
    {
     "name": "stdout",
     "output_type": "stream",
     "text": [
      "12\n"
     ]
    }
   ],
   "source": [
    "sentence=\"I want to become a data scientist\"\n",
    "vowel=\"aeiouAEIOU\"\n",
    "count=0\n",
    "for i in sentence:\n",
    "    if i in vowel:\n",
    "        count+=1\n",
    "print(count)"
   ]
  }
 ],
 "metadata": {
  "kernelspec": {
   "display_name": "Python 3 (ipykernel)",
   "language": "python",
   "name": "python3"
  },
  "language_info": {
   "codemirror_mode": {
    "name": "ipython",
    "version": 3
   },
   "file_extension": ".py",
   "mimetype": "text/x-python",
   "name": "python",
   "nbconvert_exporter": "python",
   "pygments_lexer": "ipython3",
   "version": "3.10.8"
  }
 },
 "nbformat": 4,
 "nbformat_minor": 5
}
