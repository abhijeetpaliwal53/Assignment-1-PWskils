{
 "cells": [
  {
   "cell_type": "markdown",
   "id": "2cea8d67-fe15-40ed-bcd4-e153f8d7f14f",
   "metadata": {},
   "source": [
    "ANS 1 - Abstraction in OOps = Abstraction is the process of hiding the internal details of an application from the outer world. Abstraction is used to describe things in simple terms. It’s used to create a boundary between the application and the client programs."
   ]
  },
  {
   "cell_type": "code",
   "execution_count": 1,
   "id": "791ecb87-be73-4e9c-bf5e-d5283a5c33d6",
   "metadata": {},
   "outputs": [],
   "source": [
    "from abc import ABC, abstractmethod\n",
    "\n",
    "class Vehicle(ABC):\n",
    "    def __init__(self, name, max_speed):\n",
    "        self.name = name\n",
    "        self.max_speed = max_speed\n",
    "    \n",
    "    @abstractmethod\n",
    "    def start(self):\n",
    "        pass\n",
    "    \n",
    "    @abstractmethod\n",
    "    def stop(self):\n",
    "        pass\n",
    "    \n",
    "    @abstractmethod\n",
    "    def accelerate(self):\n",
    "        pass\n",
    "\n",
    "class Car(Vehicle):\n",
    "    def start(self):\n",
    "        print(f\"The {self.name} car has started.\")\n",
    "    \n",
    "    def stop(self):\n",
    "        print(f\"The {self.name} car has stopped.\")\n",
    "    \n",
    "    def accelerate(self):\n",
    "        print(f\"The {self.name} car is accelerating.\")\n",
    "\n",
    "class Motorcycle(Vehicle):\n",
    "    def start(self):\n",
    "        print(f\"The {self.name} motorcycle has started.\")\n",
    "    \n",
    "    def stop(self):\n",
    "        print(f\"The {self.name} motorcycle has stopped.\")\n",
    "    \n",
    "    def accelerate(self):\n",
    "        print(f\"The {self.name} motorcycle is accelerating.\")\n",
    "\n",
    "class Truck(Vehicle):\n",
    "    def start(self):\n",
    "        print(f\"The {self.name} truck has started.\")\n",
    "    \n",
    "    def stop(self):\n",
    "        print(f\"The {self.name} truck has stopped.\")\n",
    "    \n",
    "    def accelerate(self):\n",
    "        print(f\"The {self.name} truck is accelerating.\")"
   ]
  },
  {
   "cell_type": "code",
   "execution_count": 2,
   "id": "efaa328d-c96a-4bc4-9c8a-9e0975df0475",
   "metadata": {},
   "outputs": [
    {
     "name": "stdout",
     "output_type": "stream",
     "text": [
      "The Sedan car has started.\n",
      "The Sedan car is accelerating.\n",
      "The Sedan car has stopped.\n"
     ]
    }
   ],
   "source": [
    "car = Car(\"Sedan\", 200)\n",
    "car.start()      \n",
    "car.accelerate() \n",
    "car.stop()"
   ]
  },
  {
   "cell_type": "markdown",
   "id": "b507c128-88f8-47a7-a177-ad084fd0ea9c",
   "metadata": {},
   "source": [
    "ANS 2 - Abstraction: Abstraction is the process of representing complex real-world entities as simplified models in code. It focuses on the essential features of an object while hiding the unnecessary details. In Python, abstraction is achieved through the use of abstract classes and interfaces. An abstract class is a class that cannot be instantiated and is meant to be inherited by other classes. It defines a common interface and may contain some implementation details. However, it also declares one or more abstract methods that must be implemented by any class inheriting from it. Abstract methods are declared but do not contain any implementation code."
   ]
  },
  {
   "cell_type": "code",
   "execution_count": null,
   "id": "1fe99783-f50a-440c-bd45-8ff0cbe97e59",
   "metadata": {},
   "outputs": [],
   "source": [
    "class car:\n",
    "    \n",
    "    def __init__(self):\n",
    "        self.__speed=0\n",
    "        \n",
    "    def get_speed(self):\n",
    "        return self.__speed\n",
    "    \n",
    "    def set_speed(self,speed):\n",
    "        if speed <0:\n",
    "            print (\"invalid speed\")\n",
    "            \n",
    "        else:\n",
    "            self.__speed=speed\n",
    "        "
   ]
  },
  {
   "cell_type": "markdown",
   "id": "9830348a-8971-4150-85d9-62d76a58d1fc",
   "metadata": {},
   "source": [
    "Encapsulation: Encapsulation is the practice of hiding internal data and methods of an object and providing access to them only through a well-defined interface. It helps in organizing code and prevents direct access to sensitive data from outside the class. In Python, encapsulation is typically achieved by using access modifiers such as public, private, and protected."
   ]
  },
  {
   "cell_type": "code",
   "execution_count": 4,
   "id": "70542c06-ac9a-424f-aeca-96036ab0fdfa",
   "metadata": {},
   "outputs": [
    {
     "name": "stdout",
     "output_type": "stream",
     "text": [
      "100\n"
     ]
    }
   ],
   "source": [
    "Car=car()\n",
    "Car.set_speed(100)\n",
    "print(Car.get_speed())"
   ]
  },
  {
   "cell_type": "code",
   "execution_count": 5,
   "id": "a07aed7e-b770-439f-94b3-2f9c16eddb88",
   "metadata": {},
   "outputs": [
    {
     "name": "stdout",
     "output_type": "stream",
     "text": [
      "100\n"
     ]
    }
   ],
   "source": [
    "Car.__speed=-50\n",
    "print(Car.get_speed())"
   ]
  },
  {
   "cell_type": "code",
   "execution_count": 6,
   "id": "86fb212e-8b48-42d6-92bd-194e87acdcbb",
   "metadata": {},
   "outputs": [
    {
     "name": "stdout",
     "output_type": "stream",
     "text": [
      "invalid speed\n",
      "100\n"
     ]
    }
   ],
   "source": [
    "Car.set_speed(-50)\n",
    "print(Car.get_speed())"
   ]
  },
  {
   "cell_type": "markdown",
   "id": "57aa2806-998b-4200-a48d-c7877e35df6f",
   "metadata": {},
   "source": [
    "ANS 3 - The \"abc\" module in Python stands for Abstract Base Classes. It is a built-in module that provides infrastructure for defining abstract base classes in Python. Abstract base classes are classes that cannot be instantiated directly but serve as a blueprint for other classes to inherit from.\n",
    "\n",
    "The main purpose of the \"abc\" module is to facilitate the creation of abstract base classes and enforce certain interfaces or behaviors that subclasses must implement. It allows you to define abstract methods, which are methods without any implementation, that must be overridden by the concrete subclasses.\n",
    "\n",
    "By using the \"abc\" module, you can create hierarchies of classes with common interfaces, providing a way to define a contract that derived classes should adhere to. This helps in designing and organizing code, promoting code reusability, and ensuring that subclasses implement the necessary functionality.\n",
    "\n",
    "The \"abc\" module also provides decorators and functions that allow you to register and check for abstract base classes and their subclasses, making it easier to manage and enforce the contract defined by the abstract base classes."
   ]
  },
  {
   "cell_type": "markdown",
   "id": "0aaf2841-92b3-43ef-8bc0-02987c54dea8",
   "metadata": {},
   "source": [
    "ANS 4 - Define a class: Start by defining a class that encapsulates the data and related behaviors. The class serves as a blueprint for creating objects with similar properties and functionalities.\n",
    "\n",
    "Identify attributes: Identify the attributes or properties that define the data associated with the class. These attributes represent the characteristics or variables associated with the objects created from the class.\n",
    "\n",
    "Encapsulate data: Encapsulate the attributes within the class by declaring them as instance variables. Instance variables hold the state of the objects created from the class.\n",
    "\n",
    "Define methods: Define methods within the class to perform various operations on the data. Methods are functions associated with the class that can access and manipulate the attributes.\n",
    "\n",
    "Implement abstraction: Implement abstraction by exposing only the essential features of the class to the outside world. This means that you should hide the internal implementation details of the class and provide only the necessary methods to interact with the data.\n",
    "\n",
    "Accessing data: Access the data stored in the objects by creating instances of the class. Instantiate the class to create objects and access their attributes and methods using the dot notation."
   ]
  },
  {
   "cell_type": "markdown",
   "id": "475fcc64-49ee-460a-b5e8-9fb3a171e416",
   "metadata": {},
   "source": [
    "ANS 5 - An abstract class is a class that is meant to be inherited from, serving as a blueprint for other classes. It defines common attributes and methods that its subclasses should implement.\n",
    "\n",
    "To create an instance of a class, you typically use the class constructor by calling the class name followed by parentheses. However, when attempting to create an instance of an abstract class, you will encounter a TypeError.\n",
    "\n",
    "The reason for this is that abstract classes are incomplete by design. They contain one or more abstract methods, which are methods without any implementation in the abstract class itself. These methods must be implemented by the concrete subclasses.\n",
    "\n",
    "To make use of an abstract class, you need to create a concrete subclass that inherits from the abstract class and implements all its abstract methods. Only then can you create an instance of the concrete subclass and access its attributes and methods.\n",
    "\n",
    "Abstract classes in Python are typically defined using the abc module, specifically the ABC (Abstract Base Class) and abstractmethod decorators. This module provides the infrastructure for defining abstract classes and enforcing the implementation of abstract methods in subclasses."
   ]
  }
 ],
 "metadata": {
  "kernelspec": {
   "display_name": "Python 3 (ipykernel)",
   "language": "python",
   "name": "python3"
  },
  "language_info": {
   "codemirror_mode": {
    "name": "ipython",
    "version": 3
   },
   "file_extension": ".py",
   "mimetype": "text/x-python",
   "name": "python",
   "nbconvert_exporter": "python",
   "pygments_lexer": "ipython3",
   "version": "3.10.8"
  }
 },
 "nbformat": 4,
 "nbformat_minor": 5
}
