{
 "cells": [
  {
   "cell_type": "markdown",
   "id": "2237051c-fc76-409e-92fd-86c94ca9a8c4",
   "metadata": {},
   "source": [
    "ANS 1 - "
   ]
  },
  {
   "cell_type": "code",
   "execution_count": 1,
   "id": "0ad451a1-821b-4273-8810-9e7df69471e1",
   "metadata": {},
   "outputs": [],
   "source": [
    "class vehicle():\n",
    "    def __init__(self, name_of_vehicle, max_speed, average_of_vehicle):\n",
    "        self.name_of_vehicle=name_of_vehicle\n",
    "        self.max_speed=max_speed\n",
    "        self.average_of_vehicle=average_of_vehicle"
   ]
  },
  {
   "cell_type": "markdown",
   "id": "b847214f-c9f6-47fa-a00b-dc1c8df9c3da",
   "metadata": {},
   "source": [
    "ANS 2 - "
   ]
  },
  {
   "cell_type": "code",
   "execution_count": 2,
   "id": "bcbf1527-6d67-453e-8d8d-0442782132f2",
   "metadata": {},
   "outputs": [],
   "source": [
    "class car(vehicle):\n",
    "    def seating_capacity(self,capicity):\n",
    "        return f\"your vehicle is {self.name_of_vehicle} which seat capacity {capicity}\"\n",
    "    \n",
    "\n",
    "Car=car(\"Audi\",\"80\",\"12 kmpl\")"
   ]
  },
  {
   "cell_type": "code",
   "execution_count": 3,
   "id": "5b1e6c98-2e2d-403d-99bd-002b6866c2b0",
   "metadata": {},
   "outputs": [
    {
     "name": "stdout",
     "output_type": "stream",
     "text": [
      "your vehicle is Audi which seat capacity 5\n"
     ]
    }
   ],
   "source": [
    "print(Car.seating_capacity(5))"
   ]
  },
  {
   "cell_type": "markdown",
   "id": "66d5ad24-5794-48fc-a824-449d7c07f1e3",
   "metadata": {},
   "source": [
    "ANs 3 - Multiple inheritance is a feature in object-oriented programming languages where a class can inherit characteristics and behaviors from more than one parent class. This means that a class can have multiple base classes, and it can inherit attributes and methods from all of them."
   ]
  },
  {
   "cell_type": "code",
   "execution_count": 4,
   "id": "3cc80218-4c54-4278-a21d-70f7a971c7c3",
   "metadata": {},
   "outputs": [
    {
     "name": "stdout",
     "output_type": "stream",
     "text": [
      "this is method1 from class parent1\n",
      "this is method2 from class parent2\n",
      "this is method3 from class child\n"
     ]
    }
   ],
   "source": [
    "class parent1:\n",
    "    def method1(self):\n",
    "        print(\"this is method1 from class parent1\" )\n",
    "        \n",
    "class parent2:\n",
    "    def method2(self):\n",
    "        print(\"this is method2 from class parent2\" )\n",
    "\n",
    "class child(parent1,parent2):\n",
    "    def method3(self):\n",
    "        print(\"this is method3 from class child\" )\n",
    "    \n",
    "obj=child()\n",
    "obj.method1()\n",
    "obj.method2()\n",
    "obj.method3()"
   ]
  },
  {
   "cell_type": "markdown",
   "id": "e541f780-a551-4181-ad92-ccd751a174a6",
   "metadata": {},
   "source": [
    "ANS 4 - Getters and Setters are methods used to control access to the attributes of a class. They provide a way to retrieve and modify the values of private attributes, allowing encapsulation and ensuring data integrity. The getter method retrieves the value of an attribute, while the setter method sets or modifies its value."
   ]
  },
  {
   "cell_type": "code",
   "execution_count": 5,
   "id": "fe23b406-08fa-4e04-ad95-8eb20ce9ecc6",
   "metadata": {},
   "outputs": [
    {
     "name": "stdout",
     "output_type": "stream",
     "text": [
      "Abhijeet\n"
     ]
    }
   ],
   "source": [
    "class person():\n",
    "    def __init__(self, name):\n",
    "        self._name=name\n",
    "    \n",
    "    def get_name(self):\n",
    "        return self._name\n",
    "    \n",
    "    def set_name(self,new_name):\n",
    "        self._name=new_name\n",
    "        \n",
    "        \n",
    "Person=person(\"Abhijeet\")\n",
    "print(Person.get_name())"
   ]
  },
  {
   "cell_type": "code",
   "execution_count": 6,
   "id": "a780cd80-26b4-4e53-a115-9ef6eeb3b7f3",
   "metadata": {},
   "outputs": [
    {
     "name": "stdout",
     "output_type": "stream",
     "text": [
      "Shivani\n"
     ]
    }
   ],
   "source": [
    "Person.set_name(\"Shivani\")\n",
    "print(Person.get_name())"
   ]
  },
  {
   "cell_type": "markdown",
   "id": "46b9ffdd-afe4-48ec-9ffa-70d847e0462a",
   "metadata": {},
   "source": [
    "ANS 5 - Method overriding in Python is a feature that allows a subclass to provide a different implementation for a method that is already defined in its superclass. When a method is overridden, the version of the method defined in the subclass is executed instead of the version defined in the superclass. This allows the subclass to modify the behavior of the method according to its specific requirements."
   ]
  },
  {
   "cell_type": "code",
   "execution_count": 7,
   "id": "534cd145-643d-4dc7-8cb4-509ace106612",
   "metadata": {},
   "outputs": [],
   "source": [
    "class animal():\n",
    "    def make_sound(self):\n",
    "        print(\"This is Generic Sound\")\n",
    "        \n",
    "class cat(animal):\n",
    "    def make_sound(self):\n",
    "        print(\"Cat Sound MEOW\")\n",
    "        \n",
    "Animal=animal()\n",
    "Cat=cat()"
   ]
  },
  {
   "cell_type": "code",
   "execution_count": 8,
   "id": "b835929a-f3ce-4cae-8896-7cce850a3742",
   "metadata": {},
   "outputs": [
    {
     "name": "stdout",
     "output_type": "stream",
     "text": [
      "this is generic sound\n",
      "cat sound MEOW\n"
     ]
    }
   ],
   "source": [
    "Animal.make_sound()\n",
    "Cat.make_sound()"
   ]
  }
 ],
 "metadata": {
  "kernelspec": {
   "display_name": "Python 3 (ipykernel)",
   "language": "python",
   "name": "python3"
  },
  "language_info": {
   "codemirror_mode": {
    "name": "ipython",
    "version": 3
   },
   "file_extension": ".py",
   "mimetype": "text/x-python",
   "name": "python",
   "nbconvert_exporter": "python",
   "pygments_lexer": "ipython3",
   "version": "3.10.8"
  }
 },
 "nbformat": 4,
 "nbformat_minor": 5
}
