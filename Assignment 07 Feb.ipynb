{
 "cells": [
  {
   "cell_type": "markdown",
   "id": "a11650ae-ca0c-4261-a42a-829c4148a5cd",
   "metadata": {},
   "source": [
    "ANS 1 - "
   ]
  },
  {
   "cell_type": "code",
   "execution_count": 1,
   "id": "0e8dc3bc-1ea0-458a-8478-d4544f7bfb96",
   "metadata": {},
   "outputs": [],
   "source": [
    "def password(user):\n",
    "   \n",
    "    uppercase=0\n",
    "    lowercase=0\n",
    "    number=0\n",
    "    special_character=0\n",
    "    lenght_password=0   \n",
    "    \n",
    "    \n",
    "    for i in user:\n",
    "        if i.isupper():\n",
    "            uppercase+=1\n",
    "        elif i.islower():\n",
    "            lowercase+=1\n",
    "        elif i.isdigit():\n",
    "            number+=1\n",
    "        elif i in \"!@#$%^&*()\":\n",
    "            special_character+=1\n",
    "            \n",
    "    if (\n",
    "        uppercase>=2\n",
    "        and lowercase>=2\n",
    "        and number>=1\n",
    "        and special_character>=3\n",
    "        and len(user)>=10\n",
    "    ):\n",
    "        print(\"password is valid\")\n",
    "        \n",
    "    else:\n",
    "        print(\"password is invalid\")\n",
    "\n",
    "      "
   ]
  },
  {
   "cell_type": "code",
   "execution_count": 2,
   "id": "46ec1a54-dec4-4ab0-ba26-1e954ca1f1dd",
   "metadata": {},
   "outputs": [
    {
     "name": "stdin",
     "output_type": "stream",
     "text": [
      "enter the password Abhijeet@53\n"
     ]
    },
    {
     "name": "stdout",
     "output_type": "stream",
     "text": [
      "password is invalid\n",
      "None\n"
     ]
    }
   ],
   "source": [
    "user=input(\"enter the password\")\n",
    "\n",
    "result=password(user)\n",
    "print(result)"
   ]
  },
  {
   "cell_type": "markdown",
   "id": "8c028d7b-46b3-4c87-b9de-2a79510e6d0a",
   "metadata": {},
   "source": [
    "ANS 2"
   ]
  },
  {
   "cell_type": "code",
   "execution_count": 3,
   "id": "5c9b7b7c-dc7e-4857-9750-5386c98721ca",
   "metadata": {},
   "outputs": [
    {
     "name": "stdout",
     "output_type": "stream",
     "text": [
      "['orange']\n"
     ]
    }
   ],
   "source": [
    "lst=[\"apple\",\"orange\",\"pineapple\",\"mango\"]\n",
    "letter=\"o\"\n",
    "start_letter=filter(lambda s: s.startswith(letter),lst)\n",
    "print(list(start_letter))"
   ]
  },
  {
   "cell_type": "code",
   "execution_count": 4,
   "id": "8d3598b9-e21f-4ec4-aa42-7630d50365b7",
   "metadata": {},
   "outputs": [
    {
     "name": "stdout",
     "output_type": "stream",
     "text": [
      "['41000', '45454']\n"
     ]
    }
   ],
   "source": [
    "lst1=[\"gold\",\"41000\",\"silver\",\"45454\",\"gun\"]\n",
    "string_num=filter(lambda s: s.isnumeric(),lst1)\n",
    "print(list(string_num))"
   ]
  },
  {
   "cell_type": "code",
   "execution_count": 5,
   "id": "f7a5f518-b312-487c-8e66-562755ae7a3f",
   "metadata": {},
   "outputs": [
    {
     "name": "stdout",
     "output_type": "stream",
     "text": [
      "[('orange', 80), ('mango', 99), ('grapes', 1000)]\n"
     ]
    }
   ],
   "source": [
    "lst2= [(\"mango\",99),(\"orange\",80), (\"grapes\", 1000)]\n",
    "sorted_fruits=sorted(lst2,key=lambda s:s[1])\n",
    "print(sorted_fruits)"
   ]
  },
  {
   "cell_type": "code",
   "execution_count": 6,
   "id": "d0a67bc5-1290-4221-b1b4-3d287d758263",
   "metadata": {},
   "outputs": [
    {
     "name": "stdout",
     "output_type": "stream",
     "text": [
      "[1, 4, 9, 16, 25, 36, 49, 64, 81, 100]\n"
     ]
    }
   ],
   "source": [
    "squre=[x**2 for x in range(1,11)]\n",
    "print(squre)"
   ]
  },
  {
   "cell_type": "code",
   "execution_count": 7,
   "id": "02e403f9-2a3e-4cd3-b6d0-8246ab01e626",
   "metadata": {},
   "outputs": [
    {
     "name": "stdout",
     "output_type": "stream",
     "text": [
      "[1.0, 1.2599210498948732, 1.4422495703074083, 1.5874010519681994, 1.7099759466766968, 1.8171205928321397, 1.912931182772389, 2.0, 2.080083823051904, 2.154434690031884]\n"
     ]
    }
   ],
   "source": [
    "cube_root=[x**(1/3) for x in range(1,11)]\n",
    "print(cube_root)"
   ]
  },
  {
   "cell_type": "code",
   "execution_count": 9,
   "id": "920c8a98-2116-4f7b-b119-24b468b2fcd3",
   "metadata": {},
   "outputs": [
    {
     "name": "stdin",
     "output_type": "stream",
     "text": [
      "enter the no 53\n"
     ]
    },
    {
     "name": "stdout",
     "output_type": "stream",
     "text": [
      "False\n"
     ]
    }
   ],
   "source": [
    "number=int(input(\"enter the no\"))\n",
    "is_even=lambda x:x%2==0\n",
    "print(is_even(number))"
   ]
  },
  {
   "cell_type": "code",
   "execution_count": 10,
   "id": "9ca030df-1e6e-4417-b60b-0f3e407fa76a",
   "metadata": {},
   "outputs": [
    {
     "name": "stdout",
     "output_type": "stream",
     "text": [
      "[1, 3, 5, 7, 9]\n"
     ]
    }
   ],
   "source": [
    "lst=[1,2,3,4,5,6,7,8,9,10]\n",
    "odd_number=list(filter(lambda x: x%2!=0,lst))\n",
    "print(odd_number)"
   ]
  },
  {
   "cell_type": "code",
   "execution_count": 11,
   "id": "a678a00c-e41b-4666-beeb-98e5c2260b4c",
   "metadata": {},
   "outputs": [
    {
     "name": "stdout",
     "output_type": "stream",
     "text": [
      "[1, 2, 3, 4, 5, 6, 0]\n",
      "[-1, -2, -3, -4, -5]\n"
     ]
    }
   ],
   "source": [
    "lst=[1,2,3,4,5,6,-1,-2,-3,-4,-5,0]\n",
    "posotive_num=list(filter(lambda x:x>=0,lst))\n",
    "negative_num=list(filter(lambda x:x<0,lst))\n",
    "print(posotive_num)\n",
    "print(negative_num)"
   ]
  }
 ],
 "metadata": {
  "kernelspec": {
   "display_name": "Python 3 (ipykernel)",
   "language": "python",
   "name": "python3"
  },
  "language_info": {
   "codemirror_mode": {
    "name": "ipython",
    "version": 3
   },
   "file_extension": ".py",
   "mimetype": "text/x-python",
   "name": "python",
   "nbconvert_exporter": "python",
   "pygments_lexer": "ipython3",
   "version": "3.10.8"
  }
 },
 "nbformat": 4,
 "nbformat_minor": 5
}
