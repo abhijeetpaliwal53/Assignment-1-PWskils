{
 "cells": [
  {
   "cell_type": "markdown",
   "id": "19b5a369-6812-4782-b894-46b93380ccb0",
   "metadata": {},
   "source": [
    "Ans 1 - Python programming language was developed by Guido van Rossum."
   ]
  },
  {
   "cell_type": "markdown",
   "id": "1b0033e0-b544-43e1-a458-58292c61de9a",
   "metadata": {},
   "source": [
    "Ans 2 - \n",
    "Python supports multiple programming paradigms, making it a versatile programming language. Here are the main programming paradigms that Python supports:\n",
    "\n",
    "Procedural Programming\n",
    "Object-Oriented Programming (OOP)\n",
    "Functional Programming\n",
    "Imperative Programming\n",
    "Event-Driven Programming\n",
    "Scripting"
   ]
  },
  {
   "cell_type": "markdown",
   "id": "914855bd-624f-43e9-b8f0-92ddeb9fe2e4",
   "metadata": {},
   "source": [
    "Ans 3 - Yes, Python is case sensitive when dealing with identifiers. In Python, identifiers refer to names used for variables, functions, classes, modules, and other objects."
   ]
  },
  {
   "cell_type": "markdown",
   "id": "2210bd09-96f7-4d39-9efe-e6d55f110c0e",
   "metadata": {},
   "source": [
    "Ans 4 - The correct extension for a Python file is \".py\"."
   ]
  },
  {
   "cell_type": "markdown",
   "id": "0119917f-dbf4-4b53-bf1f-82a72f2db1d2",
   "metadata": {},
   "source": [
    "Ans 5 - Python is an interpreted programming language."
   ]
  },
  {
   "cell_type": "markdown",
   "id": "eafc63e1-0f5b-4030-9d1e-dfb9561dec39",
   "metadata": {},
   "source": [
    "Ans 6 - Function Definition, Conditional Statements (if-elif-else), Class Definition, Loops (for and while)"
   ]
  },
  {
   "cell_type": "markdown",
   "id": "b35b5c5c-08df-4fea-ae92-29a4c44eb883",
   "metadata": {},
   "source": [
    "Ans 7 - For single line command we using # (hash) symbol."
   ]
  },
  {
   "cell_type": "markdown",
   "id": "c739831f-c1ea-4612-bc22-a1c858a552fe",
   "metadata": {},
   "source": [
    "Ans 8 - sys.version or sys.version_info: These functions are part of the sys module and provide information about the Python version as a string or a tuple, respectively.\n",
    "platform.python_version(): This function is part of the platform module and returns the Python version as a string."
   ]
  },
  {
   "cell_type": "markdown",
   "id": "2a03fcfc-bb7b-404e-813a-6312d2e1f899",
   "metadata": {},
   "source": [
    "Ans 9 - Python supports the creation of anonymous functions at runtime using a construct called \"lambda\" functions."
   ]
  },
  {
   "cell_type": "markdown",
   "id": "7c92b2f1-aae3-465b-886f-34efe665676c",
   "metadata": {},
   "source": [
    "Ans 10 - We can use , \"pip\" in python for \"pip installs packages\" or simply \"pip installs Python packages.\" Pip is a package manager used for installing and managing third-party Python libraries or modules. "
   ]
  },
  {
   "cell_type": "markdown",
   "id": "1744726e-1104-4df3-965c-eda01bcc8566",
   "metadata": {},
   "source": [
    "Ans 11 - Python built-in functions are\n",
    "\n",
    "print(): Used to display output to the console.\n",
    "len(): Returns the length (number of items) of an object, such as a string, list, or tuple.\n",
    "input(): Reads user input from the console.\n",
    "type(): Returns the type of an object.\n",
    "int(): Converts a value to an integer.\n",
    "float(): Converts a value to a floating-point number.\n",
    "str(): Converts a value to a string.\n",
    "range(): Generates a sequence of numbers.\n",
    "list(): Creates a list from an iterable.\n",
    "dict(): Creates a dictionary.\n",
    "tuple(): Creates a tuple from an iterable.\n",
    "max(): Returns the maximum value from a sequence.\n",
    "min(): Returns the minimum value from a sequence.\n",
    "sum(): Returns the sum of all elements in a sequence.\n",
    "abs(): Returns the absolute value of a number.\n",
    "round(): Rounds a number to a specified decimal place or nearest integer.\n",
    "sorted(): Returns a sorted list from an iterable.\n",
    "zip(): Combines multiple iterables into a single iterable of tuples."
   ]
  },
  {
   "cell_type": "markdown",
   "id": "9efac7d7-fa08-466a-a36f-cc8808253c49",
   "metadata": {},
   "source": [
    "Ans 12 - In Python, the maximum length of an identifier (i.e., the name of a variable, function, class, or module) is not specified. However, there are some practical limits to the length of identifiers that you should keep in mind:\n",
    "\n",
    "PEP 8, the official Python style guide, recommends that identifiers be no more than 79 characters long. This is because longer identifiers can be difficult to read and may not fit well within the typical width of a code editor or terminal window.\n",
    "\n",
    "Python does have a limit on the length of a line of code, which is typically 79 or 80 characters. If an identifier is too long to fit on a single line of code, you may need to split it across multiple lines using the backslash () character or by enclosing it in parentheses."
   ]
  },
  {
   "cell_type": "markdown",
   "id": "5dca10cd-a19b-4904-ae8d-0f19f3e5fdc3",
   "metadata": {},
   "source": [
    "Ans 13 - Easy to learn: Python has a simple and intuitive syntax that makes it easy to learn, even for beginners. Its code is highly readable and easy to understand, making it a great language for those new to programming.\n",
    "\n",
    "Versatile: Python can be used for a wide variety of programming tasks, from web development to data analysis to machine learning. It has a large and active community that is constantly developing new libraries and frameworks, making it a powerful and flexible language.\n",
    "\n",
    "Portable: Python code can be run on any platform, including Windows, macOS, Linux, and more. This makes it easy to write code that can be deployed and run on multiple operating systems.\n",
    "\n",
    "Large standard library: Python comes with a large standard library that provides a wide range of functionality, including file I/O, networking, database access, and more. This makes it easy to build complex applications without having to write all the code from scratch.\n",
    "\n",
    "Third-party libraries: Python has a vast ecosystem of third-party libraries and frameworks that make it easy to add new functionality to your code. Some of the most popular libraries include NumPy, Pandas, Matplotlib, Django, Flask, and TensorFlow.\n",
    "\n",
    "Productivity: Python is a high-level language that allows you to write code quickly and efficiently. Its powerful built-in data structures and dynamic typing make it easy to write concise, expressive code that is easy to maintain and update."
   ]
  },
  {
   "cell_type": "markdown",
   "id": "18c534ee-1452-453d-8aff-bc0a03888fe9",
   "metadata": {},
   "source": [
    "Ans 14 - Memory management in Python is handled automatically by the Python interpreter through a process called garbage collection. The garbage collector in Python automatically detects and frees memory that is no longer being used by the program, which helps to prevent memory leaks and other issues that can arise from manual memory management.\n",
    "\n",
    "Python uses a system of reference counting to keep track of objects in memory. Each object in memory has a reference count, which is the number of variables and other objects that are currently referring to it. When the reference count of an object reaches zero, the garbage collector automatically frees the memory used by the object.\n",
    "\n",
    "In addition to reference counting, Python also uses a generational garbage collection scheme, which divides objects into different generations based on their age. New objects are placed in the youngest generation, and as they age and survive garbage collection cycles, they are promoted to older generations. This helps to improve the efficiency of garbage collection by reducing the amount of memory that needs to be scanned during each cycle."
   ]
  },
  {
   "cell_type": "markdown",
   "id": "9abd16b3-ef43-4ae0-920f-91ad9e330ccb",
   "metadata": {},
   "source": [
    "Ans 15 - Download Python: Go to the official Python website at https://www.python.org/downloads/windows/ and download the latest version of Python for Windows. Choose the appropriate version (32-bit or 64-bit) for your system.\n",
    "\n",
    "Install Python: Run the downloaded Python installer and follow the instructions to install Python on your system. Make sure to check the box that says \"Add Python to PATH\" during the installation process.\n",
    "\n",
    "Verify installation: Open a Command Prompt window and type \"python\" to check if Python is installed and the path variable is set correctly. You should see the Python interpreter start up, displaying the version number and a prompt (\">>>\").\n",
    "\n",
    "Set path variables: If you need to set the path variable manually, follow these steps:\n",
    "\n",
    "a. Open the Start menu and search for \"Environment Variables\".\n",
    "\n",
    "\n",
    "\n",
    "b. Click on \"Edit the system environment variables\".\n",
    "\n",
    "\n",
    "\n",
    "c. Click on the \"Environment Variables\" button.\n",
    "\n",
    "\n",
    "\n",
    "d. Under \"System Variables\", find the \"Path\" variable and click \"Edit\".\n",
    "\n",
    "\n",
    "\n",
    "e. Add the path to the \"Scripts\" folder in your Python installation directory (e.g., C:\\Python39\\Scripts) to the list of paths. Make sure to separate it from the other paths with a semicolon.\n",
    "\n",
    "\n",
    "\n",
    "f. Click \"OK\" to close all the windows and apply the changes.\n",
    "\n",
    "\n",
    "\n",
    "Verify path variables: Open a new Command Prompt window and type \"python\" to verify that the path variable is set correctly. You should be able to start the Python interpreter from any directory by typing \"python\" at the command prompt."
   ]
  },
  {
   "cell_type": "markdown",
   "id": "477aadca-26c1-44e6-8e2f-e1a8759d8776",
   "metadata": {},
   "source": [
    "Ans 16 - Yes, indentation is required in Python. In fact, indentation is a fundamental part of Python's syntax and is used to indicate the structure and hierarchy of code blocks in a program.\n",
    "\n",
    "In Python, code blocks are defined by their indentation level, rather than by enclosing braces or brackets like in many other programming languages. This means that the indentation of your code is important and affects the meaning and execution of your program."
   ]
  },
  {
   "cell_type": "code",
   "execution_count": 2,
   "id": "aeaf57d8-3c1b-4d38-9b84-1db7c5fe1411",
   "metadata": {},
   "outputs": [
    {
     "ename": "IndentationError",
     "evalue": "expected an indented block after 'if' statement on line 1 (460261362.py, line 2)",
     "output_type": "error",
     "traceback": [
      "\u001b[0;36m  Cell \u001b[0;32mIn[2], line 2\u001b[0;36m\u001b[0m\n\u001b[0;31m    print(\"x is positive\")\u001b[0m\n\u001b[0m    ^\u001b[0m\n\u001b[0;31mIndentationError\u001b[0m\u001b[0;31m:\u001b[0m expected an indented block after 'if' statement on line 1\n"
     ]
    }
   ],
   "source": [
    "if x > 0:\n",
    "print(\"x is positive\")\n",
    "else:\n",
    "print(\"x is not positive\")"
   ]
  }
 ],
 "metadata": {
  "kernelspec": {
   "display_name": "Python 3 (ipykernel)",
   "language": "python",
   "name": "python3"
  },
  "language_info": {
   "codemirror_mode": {
    "name": "ipython",
    "version": 3
   },
   "file_extension": ".py",
   "mimetype": "text/x-python",
   "name": "python",
   "nbconvert_exporter": "python",
   "pygments_lexer": "ipython3",
   "version": "3.10.8"
  }
 },
 "nbformat": 4,
 "nbformat_minor": 5
}
