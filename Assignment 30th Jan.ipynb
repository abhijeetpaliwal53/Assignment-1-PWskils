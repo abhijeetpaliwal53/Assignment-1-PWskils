{
 "cells": [
  {
   "cell_type": "markdown",
   "id": "eb4c1152-27e4-4723-9e94-9726109703f1",
   "metadata": {},
   "source": [
    "ANS 1"
   ]
  },
  {
   "cell_type": "code",
   "execution_count": 2,
   "id": "da88a954-cd3e-47bf-baab-877e6d958ac8",
   "metadata": {},
   "outputs": [
    {
     "name": "stdin",
     "output_type": "stream",
     "text": [
      "please enter percentage =  53\n"
     ]
    },
    {
     "name": "stdout",
     "output_type": "stream",
     "text": [
      "You got grade D\n"
     ]
    }
   ],
   "source": [
    "per = float(input(\"please enter percentage = \"))\n",
    "if per>90:\n",
    "    print(\"You got grade A\")\n",
    "elif 80<per<=90:\n",
    "    print(\"You got grade B\")\n",
    "elif 60<=per<=80:\n",
    "    print(\"You got grade C\")\n",
    "else:\n",
    "    print(\"You got grade D\")"
   ]
  },
  {
   "cell_type": "markdown",
   "id": "44025dc6-1576-4fc3-8c54-b87bf3b929d2",
   "metadata": {},
   "source": [
    "ANS 2"
   ]
  },
  {
   "cell_type": "code",
   "execution_count": 3,
   "id": "d97a1a8f-075d-4867-b174-e4dbb153809a",
   "metadata": {},
   "outputs": [
    {
     "name": "stdin",
     "output_type": "stream",
     "text": [
      "Please enter the cost of bike :  1500000\n"
     ]
    },
    {
     "name": "stdout",
     "output_type": "stream",
     "text": [
      "you have to be paid road tax 15% \n"
     ]
    }
   ],
   "source": [
    "bike=int(input(\"Please enter the cost of bike : \"))\n",
    "if bike>10000:\n",
    "    print(\"you have to be paid road tax 15% \")\n",
    "elif 10000>=bike>5000:\n",
    "    print(\"you have to be paid road tax 10% \")\n",
    "else:\n",
    "    print(\"you have to be paid road tax 5% \")"
   ]
  },
  {
   "cell_type": "markdown",
   "id": "39814c7c-6481-43e9-9e7b-e6546912914a",
   "metadata": {},
   "source": [
    "ANS 3"
   ]
  },
  {
   "cell_type": "code",
   "execution_count": 4,
   "id": "3ebe439b-0e00-4331-befa-ed63afa17472",
   "metadata": {},
   "outputs": [
    {
     "name": "stdin",
     "output_type": "stream",
     "text": [
      "please enter the city from this  (Delhi, Agra, Jaipur) :  Jaipur\n"
     ]
    },
    {
     "name": "stdout",
     "output_type": "stream",
     "text": [
      "The monument in Jaipur is  Jal Mahal\n"
     ]
    }
   ],
   "source": [
    "place=input(\"please enter the city from this  (Delhi, Agra, Jaipur) : \")\n",
    "if place==\"Delhi\":\n",
    "    print(\"The monument in Delhi is  Red fort\")\n",
    "elif place==\"Agra\":\n",
    "    print(\"The monument in Agra is  Taj mahal\")\n",
    "elif place==\"Jaipur\":\n",
    "    print(\"The monument in Jaipur is  Jal Mahal\")\n",
    "else:\n",
    "    print(\"Please select the right option\")"
   ]
  },
  {
   "cell_type": "markdown",
   "id": "d0ebc76a-5237-49f6-a23d-b21d236b2edd",
   "metadata": {},
   "source": [
    "ANS 4"
   ]
  },
  {
   "cell_type": "code",
   "execution_count": 8,
   "id": "aabbd122-cb33-4f70-8669-153f4799a538",
   "metadata": {},
   "outputs": [
    {
     "name": "stdin",
     "output_type": "stream",
     "text": [
      "Enter Any Number :  53\n"
     ]
    },
    {
     "name": "stdout",
     "output_type": "stream",
     "text": [
      "The Number Can Divided By  2\n"
     ]
    }
   ],
   "source": [
    "num=int(input(\"Enter Any Number : \"))\n",
    "count=0\n",
    "while num>10:\n",
    "    num=num/3\n",
    "    count+=1\n",
    "print(\"The Number Can Divided By \", count)"
   ]
  },
  {
   "cell_type": "markdown",
   "id": "9f1e9e30-e506-4422-a741-0d28fbd5e903",
   "metadata": {},
   "source": [
    "ANS 5 - A while loop is a control flow statement in Python that repeatedly executes a block of code as long as a specified condition is true.\n",
    "\n",
    "A while loop is useful when you want to repeat a block of code while a certain condition is true. For example, you might use a while loop to read input from the user until they enter a valid value, or to process a list of items until a certain condition is met.\n",
    "\n",
    "Example"
   ]
  },
  {
   "cell_type": "code",
   "execution_count": 11,
   "id": "8d9ac2ab-5728-431e-af40-d21ed2c3804e",
   "metadata": {},
   "outputs": [
    {
     "name": "stdout",
     "output_type": "stream",
     "text": [
      "processing item  A\n",
      "processing item  B\n"
     ]
    }
   ],
   "source": [
    "items = [\"A\", \"B\", \"C\", \"D\"]\n",
    "i=0\n",
    "while i<len(items):\n",
    "    if items[i]==\"C\":\n",
    "        break\n",
    "    print(\"processing item \" ,items[i]) \n",
    "    i += 1"
   ]
  },
  {
   "cell_type": "markdown",
   "id": "71c6c3a7-b3e0-41f4-a6df-a3b7d5796f7e",
   "metadata": {},
   "source": [
    "ANS 6"
   ]
  },
  {
   "cell_type": "code",
   "execution_count": 12,
   "id": "ab5b2c5e-d189-4ddf-a55f-613f83e50fb3",
   "metadata": {},
   "outputs": [
    {
     "name": "stdout",
     "output_type": "stream",
     "text": [
      "*****\n",
      "*****\n",
      "*****\n",
      "*****\n",
      "*****\n"
     ]
    }
   ],
   "source": [
    "# squre\n",
    "row = 1\n",
    "while row <= 5:\n",
    "    col = 1\n",
    "    while col <= 5:\n",
    "        print('*', end='')\n",
    "        col += 1\n",
    "    print()\n",
    "    row += 1"
   ]
  },
  {
   "cell_type": "code",
   "execution_count": 13,
   "id": "1cadb7a2-6d06-4221-9b39-d7fc3caaf853",
   "metadata": {},
   "outputs": [
    {
     "name": "stdout",
     "output_type": "stream",
     "text": [
      "*\n",
      "**\n",
      "***\n",
      "****\n",
      "*****\n"
     ]
    }
   ],
   "source": [
    "#Right Triangle\n",
    "i=1\n",
    "while i<=5:\n",
    "    print(i*\"*\")\n",
    "    i+=1"
   ]
  },
  {
   "cell_type": "code",
   "execution_count": 14,
   "id": "fe0eed06-ad58-4ec7-8eb2-a8b1377986d2",
   "metadata": {},
   "outputs": [
    {
     "name": "stdout",
     "output_type": "stream",
     "text": [
      "  *\n",
      " ***\n",
      "*****\n",
      " ***\n",
      "  *\n"
     ]
    }
   ],
   "source": [
    "# Diamond\n",
    "row = 1\n",
    "while row <= 3:\n",
    "    col = 1\n",
    "    while col <= (3 - row):\n",
    "        print(' ', end='')\n",
    "        col += 1\n",
    "    col = 1\n",
    "    while col <= (2 * row - 1):\n",
    "        print('*', end='')\n",
    "        col += 1\n",
    "    print()\n",
    "    row += 1\n",
    "\n",
    "row = 2\n",
    "while row >= 1:\n",
    "    col = 1\n",
    "    while col <= (3 - row):\n",
    "        print(' ', end='')\n",
    "        col += 1\n",
    "    col = 1\n",
    "    while col <= (2 * row - 1):\n",
    "        print('*', end='')\n",
    "        col += 1\n",
    "    print()\n",
    "    row -= 1"
   ]
  },
  {
   "cell_type": "markdown",
   "id": "469a8f80-b10b-4d30-9c5c-af4cb9c6eace",
   "metadata": {},
   "source": [
    "ANS 7"
   ]
  },
  {
   "cell_type": "code",
   "execution_count": 17,
   "id": "297d1444-05a8-4e7c-b8bf-027897e4061a",
   "metadata": {},
   "outputs": [
    {
     "name": "stdout",
     "output_type": "stream",
     "text": [
      "10\n",
      "9\n",
      "8\n",
      "7\n",
      "6\n",
      "5\n",
      "4\n",
      "3\n",
      "2\n",
      "1\n"
     ]
    }
   ],
   "source": [
    "i=10\n",
    "while i>0:\n",
    "    print(i)\n",
    "    i-=1"
   ]
  },
  {
   "cell_type": "code",
   "execution_count": null,
   "id": "0a8e9b6b-0e88-4200-ba02-fb454caa981c",
   "metadata": {},
   "outputs": [],
   "source": []
  }
 ],
 "metadata": {
  "kernelspec": {
   "display_name": "Python 3 (ipykernel)",
   "language": "python",
   "name": "python3"
  },
  "language_info": {
   "codemirror_mode": {
    "name": "ipython",
    "version": 3
   },
   "file_extension": ".py",
   "mimetype": "text/x-python",
   "name": "python",
   "nbconvert_exporter": "python",
   "pygments_lexer": "ipython3",
   "version": "3.10.8"
  }
 },
 "nbformat": 4,
 "nbformat_minor": 5
}
