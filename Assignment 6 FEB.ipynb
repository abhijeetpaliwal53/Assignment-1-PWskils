{
 "cells": [
  {
   "cell_type": "markdown",
   "id": "58ebeb82-87f8-44bd-b620-cd97a5e61410",
   "metadata": {},
   "source": [
    "ANS 1"
   ]
  },
  {
   "cell_type": "code",
   "execution_count": 3,
   "id": "066bc697-a499-4beb-a03a-2348a6b73159",
   "metadata": {},
   "outputs": [],
   "source": [
    "list1 = [1,2,3,4, [44,55,66, True], False, (34,56,78,89,34), {1,2,3,3,2,1}, {1:34, \"key2\": [55, 67, 78, 89], 4: (45,\n",
    "22, 61, 34)}, [56, 'data science'], 'Machine Learning']"
   ]
  },
  {
   "cell_type": "code",
   "execution_count": 4,
   "id": "060741d3-e636-4213-bb8f-772436ac0f5a",
   "metadata": {},
   "outputs": [
    {
     "name": "stdout",
     "output_type": "stream",
     "text": [
      "[1, 2, 3, 4, 44, 55, 66, True, False, 34, 56, 78, 89, 34, 1, 2, 3, 34, 55, 67, 78, 89, 45, 22, 61, 34, 56]\n",
      "Product: 0\n"
     ]
    }
   ],
   "source": [
    "def calculate_product(lst):\n",
    "    flat_list = []\n",
    "    \n",
    "    def extract_numbers(item):\n",
    "        if isinstance(item, (int, float)):\n",
    "            flat_list.append(item)\n",
    "        elif isinstance(item, dict):\n",
    "            for value in item.values():\n",
    "                extract_numbers(value)\n",
    "        elif isinstance(item, (list, tuple, set)):\n",
    "            for value in item:\n",
    "                extract_numbers(value)\n",
    "    \n",
    "    for element in lst:\n",
    "        extract_numbers(element)\n",
    "        \n",
    "    print(flat_list)\n",
    "    \n",
    "    product = 1\n",
    "    for number in flat_list:\n",
    "        product *= number\n",
    "    \n",
    "    return product\n",
    "\n",
    "\n",
    "result=calculate_product(list1)\n",
    "print(\"Product:\", result)"
   ]
  },
  {
   "cell_type": "markdown",
   "id": "24fec04f-8667-4949-957d-3bc6627ffbf8",
   "metadata": {},
   "source": [
    "ANS 2"
   ]
  },
  {
   "cell_type": "code",
   "execution_count": 5,
   "id": "f1e0bbf3-fcc7-448d-9faa-452b674f9cc6",
   "metadata": {},
   "outputs": [
    {
     "name": "stdout",
     "output_type": "stream",
     "text": [
      "r$dzmg$gl$yvxlnv$z$wzgz$hxrvmgrhg.\n"
     ]
    }
   ],
   "source": [
    "def encrpt(message):\n",
    "\tencrpted_message=\"\"\n",
    "\tfor char in message.lower():\n",
    "\t\tif char.isalpha():\n",
    "\t\t\tencrpted_char=chr(ord(\"a\")+ord(\"z\")- ord(char))\n",
    "\t\telif char.isspace():\n",
    "\t\t\tencrpted_char=\"$\"\n",
    "\t\telse:\n",
    "\t\t\tencrpted_char=char\n",
    "\t\tencrpted_message+=encrpted_char\n",
    "\treturn encrpted_message\n",
    "\n",
    "input= \"I want to become a Data Scientist.\"\n",
    "\n",
    "encrpted_sentence=encrpt(input)\n",
    "print(encrpted_sentence)"
   ]
  }
 ],
 "metadata": {
  "kernelspec": {
   "display_name": "Python 3 (ipykernel)",
   "language": "python",
   "name": "python3"
  },
  "language_info": {
   "codemirror_mode": {
    "name": "ipython",
    "version": 3
   },
   "file_extension": ".py",
   "mimetype": "text/x-python",
   "name": "python",
   "nbconvert_exporter": "python",
   "pygments_lexer": "ipython3",
   "version": "3.10.8"
  }
 },
 "nbformat": 4,
 "nbformat_minor": 5
}
