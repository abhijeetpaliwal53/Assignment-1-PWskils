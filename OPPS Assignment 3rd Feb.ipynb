{
 "cells": [
  {
   "cell_type": "raw",
   "id": "4d04e107-fd28-4662-a6c8-d82274a7b717",
   "metadata": {},
   "source": [
    "Ans 1 - Class = In OOP class is a blueprint. it deines like a behaviour of particular object. for example mobile is a class with screentouch, colour, brand etc.\n",
    "Object = Object that define about the class give specification about the class like Mobile is calss but colour, brand is object."
   ]
  },
  {
   "cell_type": "code",
   "execution_count": 16,
   "id": "d25168cd-5eee-485e-b4db-98ecd9af8b8c",
   "metadata": {},
   "outputs": [],
   "source": [
    "#class example\n",
    "\n",
    "class mobile:\n",
    "    def __init__(self, screentouch, colour, brand):\n",
    "        self.screen = screentouch\n",
    "        self.colour = colour\n",
    "        self.brand = brand\n",
    "        \n",
    "    def return_mobile(self):\n",
    "        return self.screen, self.colour, self.brand"
   ]
  },
  {
   "cell_type": "code",
   "execution_count": 17,
   "id": "d9ddc659-e790-4731-95e0-2a28b1605655",
   "metadata": {},
   "outputs": [],
   "source": [
    "Nokia = mobile(\"Yes\", \"Black\", \"nokia3310\")\n",
    "Apple = mobile(\"Yes\", \"White\", \"Iphone 14\")"
   ]
  },
  {
   "cell_type": "code",
   "execution_count": 18,
   "id": "69526368-d541-44a7-9c0d-a79b7508d602",
   "metadata": {},
   "outputs": [
    {
     "data": {
      "text/plain": [
       "('Yes', 'Black', 'nokia3310')"
      ]
     },
     "execution_count": 18,
     "metadata": {},
     "output_type": "execute_result"
    }
   ],
   "source": [
    "Nokia.return_mobile()"
   ]
  },
  {
   "cell_type": "code",
   "execution_count": 5,
   "id": "4d7bf3f4-dd36-4ac5-84c3-3005127754fa",
   "metadata": {},
   "outputs": [
    {
     "data": {
      "text/plain": [
       "('Yes', 'White', 'Iphone 14')"
      ]
     },
     "execution_count": 5,
     "metadata": {},
     "output_type": "execute_result"
    }
   ],
   "source": [
    "Apple.return_mobile()"
   ]
  },
  {
   "cell_type": "markdown",
   "id": "e7fb6a1f-3975-4d76-8b7b-60caf894bda6",
   "metadata": {},
   "source": [
    "Ans 2 - Four pillars of OOPs. \n",
    "a. Abstraction.\n",
    "b. Encapsulation.\n",
    "c. Inheritance.\n",
    "d. Polymorphism.\n",
    "\n",
    "Encapsulation: Encapsulation is the mechanism of bundling data and methods that act on that data within a single unit, preventing external access to the data and implementation details. This protects the data from external manipulation and ensures that it is accessed and modified only through controlled methods.\n",
    "\n",
    "Inheritance: Inheritance is the process of creating new classes from existing classes, inheriting their properties and behaviors, and adding new ones. It allows for code reuse and the creation of hierarchies of classes with increasingly specialized behaviors.\n",
    "\n",
    "Polymorphism: Polymorphism refers to the ability of objects to take on many forms or to exhibit different behaviors depending on the context in which they are used. It allows for the creation of generic code that can be applied to different types of objects.\n",
    "\n",
    "Abstraction: Abstraction is the process of identifying essential features of an object while ignoring its implementation details. It allows for the creation of simpler, more generalized models of complex systems, making it easier to reason about them and to create reusable code."
   ]
  },
  {
   "cell_type": "markdown",
   "id": "3db26282-ee37-458d-93d4-5953d0f096fd",
   "metadata": {},
   "source": [
    "Ans 3-  the __init__() function is a special method that is automatically called when an object of a class is created. This function is used to initialize the object's attributes or properties when it is created.\n",
    "\n",
    "The __init__() function takes the self parameter, which refers to the object being created, and any additional parameters needed to initialize its attributes. Within the function, you can set the values of the object's attributes using the self keyword, which refers to the object itself."
   ]
  },
  {
   "cell_type": "code",
   "execution_count": 8,
   "id": "12bbf84b-2352-47eb-be31-149ccff7fdde",
   "metadata": {},
   "outputs": [
    {
     "data": {
      "text/plain": [
       "('Yes', 'Black', 'nokia3310')"
      ]
     },
     "execution_count": 8,
     "metadata": {},
     "output_type": "execute_result"
    }
   ],
   "source": [
    "class mobile:\n",
    "    def __init__(self, screentouch, colour, brand):\n",
    "        self.screen = screentouch\n",
    "        self.colour = colour\n",
    "        self.brand = brand\n",
    "        \n",
    "    def return_mobile(self):\n",
    "        return self.screen, self.colour, self.brand\n",
    "    \n",
    "Nokia = mobile(\"Yes\", \"Black\", \"nokia3310\")\n",
    "Nokia.return_mobile()"
   ]
  },
  {
   "cell_type": "raw",
   "id": "16845e8f-f642-4b16-a7c7-1e6f2b19163c",
   "metadata": {},
   "source": [
    "Ans 4 - The self is used in python to repressent the instance of the calss, it also hold object information.By using \"self\" as a reference to the current instance, OOP languages provide a mechanism for organizing and managing objects and their behavior. It allows for code reusability, modularity, and better encapsulation of data and functionality within objects.\n",
    "The self parameter is used to access and modify the attributes and methods of the instance, allowing you to manipulate the state of the object. It allows you to refer to the specific instance of the class that you are working with, as opposed to the class itself or any other instance of the class."
   ]
  },
  {
   "cell_type": "raw",
   "id": "12e25f97-526c-4fd1-8abc-26fbb2f03d38",
   "metadata": {},
   "source": [
    "Ans 5- Inheritance is a fundamental concept in object-oriented programming (OOP) that allows a class to inherit properties and behaviors from another class. \n",
    "The class that inherits from another class is called the derived class or subclass, and the class being inherited from is called the base class or superclass. \n",
    "\n",
    "There are different types of inheritance:\n",
    "\n",
    "Single Inheritance:"
   ]
  },
  {
   "cell_type": "code",
   "execution_count": 2,
   "id": "66f4baeb-7f16-4051-96ca-d630b2d08b49",
   "metadata": {},
   "outputs": [
    {
     "name": "stdout",
     "output_type": "stream",
     "text": [
      "mobile name nokia\n",
      "mobile is screentouch\n"
     ]
    }
   ],
   "source": [
    "class mobile:\n",
    "    def nokia(self):\n",
    "        print(\"mobile name nokia\")\n",
    "\n",
    "class brand(mobile):\n",
    "    def screen(self):\n",
    "        print(\"mobile is screentouch\")\n",
    "\n",
    "obj_brand = brand()\n",
    "obj_brand.nokia()   \n",
    "obj_brand.screen()  \n"
   ]
  },
  {
   "cell_type": "code",
   "execution_count": 14,
   "id": "87c3b3cc-e1a3-4028-ad5d-66b9b461c08c",
   "metadata": {},
   "outputs": [
    {
     "name": "stdout",
     "output_type": "stream",
     "text": [
      "driving...\n",
      "MRF tyre\n",
      "petrol or disel...\n"
     ]
    }
   ],
   "source": [
    "#Multiple Inheritance: \n",
    "class car:\n",
    "    def drive(self):\n",
    "        print(\"driving...\")\n",
    "\n",
    "class fuel:\n",
    "    def petrol(self):\n",
    "        print(\"petrol or disel...\")\n",
    "\n",
    "class tyre(car, fuel):\n",
    "    def mrf(self):\n",
    "        print(\"MRF tyre\")\n",
    "\n",
    "obj_tyre = tyre()\n",
    "obj_tyre.drive()\n",
    "obj_tyre.mrf()\n",
    "obj_tyre.petrol()"
   ]
  },
  {
   "cell_type": "code",
   "execution_count": 15,
   "id": "3f297792-8739-4498-bd6a-3fcb5a8db923",
   "metadata": {},
   "outputs": [
    {
     "name": "stdout",
     "output_type": "stream",
     "text": [
      "Moving...\n",
      "Car started.\n",
      "Sports car accelerating.\n"
     ]
    }
   ],
   "source": [
    "#Multilevel Inheritance\n",
    "class Vehicle:\n",
    "    def move(self):\n",
    "        print(\"Moving...\")\n",
    "\n",
    "class Car(Vehicle):\n",
    "    def start(self):\n",
    "        print(\"Car started.\")\n",
    "\n",
    "class SportsCar(Car):\n",
    "    def accelerate(self):\n",
    "        print(\"Sports car accelerating.\")\n",
    "\n",
    "sports_car = SportsCar()\n",
    "sports_car.move()\n",
    "sports_car.start()\n",
    "sports_car.accelerate()"
   ]
  },
  {
   "cell_type": "code",
   "execution_count": null,
   "id": "bff71232-0105-46a0-8f68-4b598e28deea",
   "metadata": {},
   "outputs": [],
   "source": []
  }
 ],
 "metadata": {
  "kernelspec": {
   "display_name": "Python 3 (ipykernel)",
   "language": "python",
   "name": "python3"
  },
  "language_info": {
   "codemirror_mode": {
    "name": "ipython",
    "version": 3
   },
   "file_extension": ".py",
   "mimetype": "text/x-python",
   "name": "python",
   "nbconvert_exporter": "python",
   "pygments_lexer": "ipython3",
   "version": "3.10.8"
  }
 },
 "nbformat": 4,
 "nbformat_minor": 5
}
