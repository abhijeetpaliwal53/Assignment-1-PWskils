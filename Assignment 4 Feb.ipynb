{
 "cells": [
  {
   "cell_type": "raw",
   "id": "ed0ac23e-1bc9-47db-8965-96e97a7011a6",
   "metadata": {},
   "source": [
    "ANS 1 - "
   ]
  },
  {
   "cell_type": "code",
   "execution_count": 34,
   "id": "8c95e08f-070e-40b7-ad6f-8bd1455d7112",
   "metadata": {},
   "outputs": [],
   "source": [
    "#ANS 1\n",
    "\n",
    "l=[('Sachin Tendulkar', 34357), ('Ricky Ponting', 27483), ('Jack Kallis', 25534), ('Virat Kohli', 24936)]"
   ]
  },
  {
   "cell_type": "code",
   "execution_count": 35,
   "id": "c11d9694-1720-40e7-ab7a-d54cb61340c7",
   "metadata": {},
   "outputs": [],
   "source": [
    "# sort this by sorted() function and return the sort list based upon integer\n",
    "sort=sorted(l,key=lambda x : x[0])"
   ]
  },
  {
   "cell_type": "code",
   "execution_count": 3,
   "id": "8313e217-461e-40b1-9a53-d2c89de738af",
   "metadata": {},
   "outputs": [
    {
     "name": "stdout",
     "output_type": "stream",
     "text": [
      "[('Virat Kohli', 24936), ('Jack Kallis', 25534), ('Ricky Ponting', 27483), ('Sachin Tendulkar', 34357)]\n"
     ]
    }
   ],
   "source": [
    "print(sort)"
   ]
  },
  {
   "cell_type": "raw",
   "id": "94f0d56b-fc27-463a-a89a-fa1187522559",
   "metadata": {},
   "source": [
    "[1, 2, 3, 4, 5, 6, 7, 8, 9, 10]ANS 2 - "
   ]
  },
  {
   "cell_type": "code",
   "execution_count": 18,
   "id": "b4264ac7-2da1-4353-9e14-adecbd92d6cc",
   "metadata": {},
   "outputs": [],
   "source": [
    "l = [1, 2, 3, 4, 5, 6, 7, 8, 9, 10]"
   ]
  },
  {
   "cell_type": "code",
   "execution_count": 20,
   "id": "d5e6f468-2e3a-4077-b7ba-c0ddf421ce26",
   "metadata": {},
   "outputs": [
    {
     "data": {
      "text/plain": [
       "[1, 4, 9, 16, 25, 36, 49, 64, 81, 100]"
      ]
     },
     "execution_count": 20,
     "metadata": {},
     "output_type": "execute_result"
    }
   ],
   "source": [
    "list(map(lambda x:x**2, l))"
   ]
  },
  {
   "cell_type": "raw",
   "id": "c465a38a-df0c-453d-b4e5-db7f5d85db05",
   "metadata": {},
   "source": [
    "ANS 3- "
   ]
  },
  {
   "cell_type": "code",
   "execution_count": null,
   "id": "f4fdf250-cc4e-431b-b6f7-015d80833884",
   "metadata": {},
   "outputs": [],
   "source": [
    "l1 = [1, 2, 3, 4, 5, 6, 7, 8, 9, 10]"
   ]
  },
  {
   "cell_type": "code",
   "execution_count": 22,
   "id": "494e5ee9-6b3b-4600-8b2b-dff9f6353037",
   "metadata": {},
   "outputs": [
    {
     "data": {
      "text/plain": [
       "('1', '2', '3', '4', '5', '6', '7', '8', '9', '10')"
      ]
     },
     "execution_count": 22,
     "metadata": {},
     "output_type": "execute_result"
    }
   ],
   "source": [
    "tuple(map(lambda x: str(x),l1))"
   ]
  },
  {
   "cell_type": "raw",
   "id": "ed3f5555-c139-4564-be70-ec456a49ae30",
   "metadata": {},
   "source": [
    "ANS 4 - "
   ]
  },
  {
   "cell_type": "code",
   "execution_count": null,
   "id": "136fcedc-0062-4785-81f2-3eca73cc1be3",
   "metadata": {},
   "outputs": [
    {
     "data": {
      "text/plain": [
       "620448401733239439360000"
      ]
     },
     "execution_count": 24,
     "metadata": {},
     "output_type": "execute_result"
    }
   ],
   "source": [
    "#import reduce function\n",
    "from functools import reduce\n",
    "#use reduce function to product of list \n",
    "reduce(lambda x,y:x*y, range(1,25))"
   ]
  },
  {
   "cell_type": "raw",
   "id": "b4f591c9-3663-425a-a6e7-1f5a2acfdcc2",
   "metadata": {},
   "source": [
    "ANS 5 -"
   ]
  },
  {
   "cell_type": "code",
   "execution_count": 30,
   "id": "420bb81f-1142-4953-b44c-83cf55a08fe7",
   "metadata": {},
   "outputs": [
    {
     "data": {
      "text/plain": [
       "[6, 60, 90, 120]"
      ]
     },
     "execution_count": 30,
     "metadata": {},
     "output_type": "execute_result"
    }
   ],
   "source": [
    "l2 = [2, 3, 6, 9, 27, 60, 90, 120, 55, 46]\n",
    "list(filter(lambda x:x%6==0,l2))"
   ]
  },
  {
   "cell_type": "raw",
   "id": "0526aa9a-e2a4-4c04-b5fc-4cab7b69d271",
   "metadata": {},
   "source": [
    "ANS 6- "
   ]
  },
  {
   "cell_type": "code",
   "execution_count": 33,
   "id": "20b86049-6ba1-4c59-9e1d-9ab9ea4661f8",
   "metadata": {},
   "outputs": [
    {
     "data": {
      "text/plain": [
       "['php', 'aba', 'radar', 'level']"
      ]
     },
     "execution_count": 33,
     "metadata": {},
     "output_type": "execute_result"
    }
   ],
   "source": [
    "l3 = ['python', 'php', 'aba', 'radar', 'level']\n",
    "list(filter(lambda x:x==x[::-1], l3))"
   ]
  },
  {
   "cell_type": "code",
   "execution_count": null,
   "id": "bcbb5d21-becc-4db0-8c64-0e4426242982",
   "metadata": {},
   "outputs": [],
   "source": []
  }
 ],
 "metadata": {
  "kernelspec": {
   "display_name": "Python 3 (ipykernel)",
   "language": "python",
   "name": "python3"
  },
  "language_info": {
   "codemirror_mode": {
    "name": "ipython",
    "version": 3
   },
   "file_extension": ".py",
   "mimetype": "text/x-python",
   "name": "python",
   "nbconvert_exporter": "python",
   "pygments_lexer": "ipython3",
   "version": "3.10.8"
  }
 },
 "nbformat": 4,
 "nbformat_minor": 5
}
