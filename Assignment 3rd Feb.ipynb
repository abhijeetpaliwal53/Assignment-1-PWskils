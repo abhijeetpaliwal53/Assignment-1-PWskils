{
 "cells": [
  {
   "cell_type": "markdown",
   "id": "4d7f32d6-d1e0-4ee7-b936-ead82d553ddd",
   "metadata": {},
   "source": [
    "Q1. Which keyword is used to create a function? Create a function to return a list of odd numbers in the\n",
    "range of 1 to 25.\n",
    "\n",
    "Ans- Def keyword we used to create a function"
   ]
  },
  {
   "cell_type": "code",
   "execution_count": 1,
   "id": "ca3c8871-16b9-47d4-a44c-6e1992a0ffb1",
   "metadata": {
    "tags": []
   },
   "outputs": [],
   "source": [
    "def oddnum():\n",
    "    l=[]\n",
    "    for i in range(1,25):\n",
    "        if i%2==1:\n",
    "            l.append(i)\n",
    "    return l"
   ]
  },
  {
   "cell_type": "code",
   "execution_count": 2,
   "id": "f9574852-7e4f-438d-8661-1f3869155ee9",
   "metadata": {},
   "outputs": [
    {
     "data": {
      "text/plain": [
       "[1, 3, 5, 7, 9, 11, 13, 15, 17, 19, 21, 23]"
      ]
     },
     "execution_count": 2,
     "metadata": {},
     "output_type": "execute_result"
    }
   ],
   "source": [
    "oddnum()"
   ]
  },
  {
   "cell_type": "raw",
   "id": "cb62b80f-4554-4d28-af4a-68ee8526175f",
   "metadata": {},
   "source": [
    "Q2. Why *args and **kwargs is used in some functions? Create a function each for *args and **kwargs\n",
    "to demonstrate their use.\n",
    "\n",
    "Ans - *args = We use this for n number of arguments and we store in tuples. ex: *abhi, *arg both are correct form. \n",
    "**kwarg = We use this for n number of arguments and we store in Dict."
   ]
  },
  {
   "cell_type": "code",
   "execution_count": 3,
   "id": "cde021ef-bb97-402a-81d8-ca4172751d68",
   "metadata": {},
   "outputs": [],
   "source": [
    "def test(*args):\n",
    "    for i in args:\n",
    "        print(i)"
   ]
  },
  {
   "cell_type": "code",
   "execution_count": 4,
   "id": "17331fdb-f7b8-4ce4-beff-1e150ac2507d",
   "metadata": {},
   "outputs": [
    {
     "name": "stdout",
     "output_type": "stream",
     "text": [
      "Abhi\n",
      "53\n",
      "17\n",
      "19\n",
      "[53, 17, 19]\n",
      "yash\n"
     ]
    }
   ],
   "source": [
    "test (\"Abhi\", 53, 17,19, [53,17,19], \"yash\")"
   ]
  },
  {
   "cell_type": "code",
   "execution_count": 5,
   "id": "13f1c6c8-2b92-44e8-a60c-9c8c296989fa",
   "metadata": {},
   "outputs": [],
   "source": [
    "def test2(a,*args):\n",
    "    print(\"my name is : \", a)\n",
    "    for i in args:\n",
    "        print(\"My DOB : \",i)"
   ]
  },
  {
   "cell_type": "code",
   "execution_count": 6,
   "id": "cdaaadbc-371d-4099-bbf4-c426a967edc6",
   "metadata": {},
   "outputs": [
    {
     "name": "stdout",
     "output_type": "stream",
     "text": [
      "my name is :  Abhi\n",
      "My DOB :  17.12\n",
      "My DOB :  53\n",
      "My DOB :  19\n",
      "My DOB :  [53, 17, 19]\n",
      "My DOB :  yash\n"
     ]
    }
   ],
   "source": [
    "test2 (\"Abhi\", 17.12, 53,19, [53,17,19], \"yash\")"
   ]
  },
  {
   "cell_type": "code",
   "execution_count": 7,
   "id": "28866c2c-7745-4e24-a1f4-60d1b77a8908",
   "metadata": {},
   "outputs": [],
   "source": [
    "def test3(**kwargs):\n",
    "    for key,value in kwargs.items():\n",
    "        print(\"%s=%s\" %(key,value))"
   ]
  },
  {
   "cell_type": "code",
   "execution_count": 8,
   "id": "593fdecb-c582-4958-8962-8ca79f4a3a1f",
   "metadata": {},
   "outputs": [
    {
     "name": "stdout",
     "output_type": "stream",
     "text": [
      "name=Abhijeet\n",
      "Age=30\n"
     ]
    }
   ],
   "source": [
    "test3(name=\"Abhijeet\", Age=30)"
   ]
  },
  {
   "cell_type": "raw",
   "id": "497a4991-b0f7-484e-86c5-fb54918cd898",
   "metadata": {},
   "source": [
    "Q3. What is an iterator in python? Name the method used to initialise the iterator object and the method\n",
    "used for iteration. Use these methods to print the first five elements of the given list [2, 4, 6, 8, 10, 12, 14, 16, 18, 20].\n",
    "\n",
    "Ans - iterator are the objects in python that is used to iterate over iterable objects like lists, tuples, dicts, and sets. the iterator object is initialise by \"iter()\" and for iteration method \"next()\" is used"
   ]
  },
  {
   "cell_type": "code",
   "execution_count": 10,
   "id": "c1c13454-8561-4bab-9b4a-605e473f0c1f",
   "metadata": {},
   "outputs": [
    {
     "name": "stdout",
     "output_type": "stream",
     "text": [
      "2\n",
      "4\n",
      "6\n",
      "8\n",
      "10\n"
     ]
    }
   ],
   "source": [
    "l = [2, 4, 6, 8, 10, 12, 14, 16, 18, 20]\n",
    "num = iter(l)\n",
    "print(next(num))\n",
    "print(next(num))\n",
    "print(next(num))\n",
    "print(next(num))\n",
    "print(next(num))"
   ]
  },
  {
   "cell_type": "raw",
   "id": "5c7c2c5f-f0d8-46cf-9238-e144c91b69f5",
   "metadata": {},
   "source": [
    "Q4. What is a generator function in python? Why yield keyword is used? Give an example of a generator\n",
    "function.\n",
    "\n",
    "Ans - Generator Function: It is defined likes a normal function but whenever it needs to generate a value it does so with the yield keyword rather than return.\n",
    "if the def body contain yield , then function automatically became generator function."
   ]
  },
  {
   "cell_type": "code",
   "execution_count": 12,
   "id": "82a03cca-843f-45cf-8a15-22ecb6ce6490",
   "metadata": {},
   "outputs": [],
   "source": [
    "def generator():\n",
    "    yield \"Abhi\"\n",
    "    yield 17"
   ]
  },
  {
   "cell_type": "code",
   "execution_count": 13,
   "id": "e9753edb-e519-4317-abc9-ace02336311d",
   "metadata": {},
   "outputs": [
    {
     "name": "stdout",
     "output_type": "stream",
     "text": [
      "Abhi\n",
      "17\n"
     ]
    }
   ],
   "source": [
    "for i in generator():\n",
    "    print(i)"
   ]
  },
  {
   "cell_type": "raw",
   "id": "87bb1388-67bc-4603-ad4d-a7806b170827",
   "metadata": {},
   "source": [
    "Q5. Create a generator function for prime numbers less than 1000. Use the next() method to print the\n",
    "first 20 prime numbers."
   ]
  },
  {
   "cell_type": "code",
   "execution_count": 14,
   "id": "c5fbeed9-8049-4af2-831b-1433cea278c6",
   "metadata": {},
   "outputs": [],
   "source": [
    "def primegenerator():\n",
    "    num=2\n",
    "    while num<1000:\n",
    "        for i in range(2,num):\n",
    "            if num%i==0:\n",
    "                break\n",
    "        else:\n",
    "            yield(num)\n",
    "        num+=1"
   ]
  },
  {
   "cell_type": "code",
   "execution_count": 15,
   "id": "369c3b2a-fcc9-42a4-af75-476d0d7ad81b",
   "metadata": {},
   "outputs": [
    {
     "name": "stdout",
     "output_type": "stream",
     "text": [
      "2\n",
      "3\n",
      "5\n",
      "7\n",
      "11\n",
      "13\n",
      "17\n",
      "19\n",
      "23\n",
      "29\n",
      "31\n",
      "37\n",
      "41\n",
      "43\n",
      "47\n",
      "53\n",
      "59\n",
      "61\n",
      "67\n",
      "71\n"
     ]
    }
   ],
   "source": [
    "prime=primegenerator()\n",
    "for i in range(20):\n",
    "    print(next(prime))"
   ]
  },
  {
   "cell_type": "raw",
   "id": "8efb6ed0-7140-4408-8730-743222c7887d",
   "metadata": {},
   "source": [
    "Q6. Write a python program to print the first 10 Fibonacci numbers using a while loop."
   ]
  },
  {
   "cell_type": "code",
   "execution_count": 16,
   "id": "24a702cc-b98c-42c9-884a-d68c145e0179",
   "metadata": {},
   "outputs": [
    {
     "name": "stdin",
     "output_type": "stream",
     "text": [
      "please eneter the no :  10\n"
     ]
    },
    {
     "name": "stdout",
     "output_type": "stream",
     "text": [
      "0\n",
      "1\n",
      "1\n",
      "2\n",
      "3\n",
      "5\n",
      "8\n",
      "13\n",
      "21\n",
      "34\n"
     ]
    }
   ],
   "source": [
    "a,b=0,1\n",
    "number=int(input(\"please eneter the no : \"))\n",
    "count=0\n",
    "while count<number:\n",
    "    print(a)\n",
    "    c=a+b\n",
    "    a=b\n",
    "    b=c\n",
    "    count+=1"
   ]
  },
  {
   "cell_type": "raw",
   "id": "e66fe770-71c0-445d-922e-2706cef6b5b8",
   "metadata": {},
   "source": [
    "Q7. Write a List Comprehension to iterate through the given string: ‘pwskills’.\n",
    "Expected output: ['p', 'w', 's', 'k', 'i', 'l', 'l', 's']"
   ]
  },
  {
   "cell_type": "code",
   "execution_count": 17,
   "id": "06d5dc08-9f55-4133-a4e3-55192fcb3259",
   "metadata": {},
   "outputs": [
    {
     "name": "stdout",
     "output_type": "stream",
     "text": [
      "['p', 'w', 's', 'k', 'i', 'l', 'l', 's']\n"
     ]
    }
   ],
   "source": [
    "string = \"pwskills\"\n",
    "result =[char for char in string]\n",
    "print(result)"
   ]
  },
  {
   "cell_type": "raw",
   "id": "f4746987-68ee-45b7-80da-55ec03bcfafd",
   "metadata": {},
   "source": [
    "Q8. Write a python program to check whether a given number is Palindrome or not using a while loop."
   ]
  },
  {
   "cell_type": "code",
   "execution_count": 18,
   "id": "3830319b-a60e-4ebe-a15d-53dc3db17497",
   "metadata": {},
   "outputs": [
    {
     "name": "stdin",
     "output_type": "stream",
     "text": [
      "Enter the number :  99\n"
     ]
    },
    {
     "name": "stdout",
     "output_type": "stream",
     "text": [
      "99\n",
      "number is palindrome\n"
     ]
    }
   ],
   "source": [
    "num=int(input(\"Enter the number : \"))\n",
    "temp=num\n",
    "reverse=0\n",
    "while num>0:\n",
    "# for last digit every time\n",
    "    digit=num%10\n",
    "    reverse=reverse*10+digit\n",
    "#update num after pull off last digit\n",
    "    num=num//10\n",
    "print (reverse)\n",
    "if reverse == temp:\n",
    "    print(\"number is palindrome\")\n",
    "else:\n",
    "    print(\"number is not a palindrome\")"
   ]
  },
  {
   "cell_type": "raw",
   "id": "a2fe1a8a-0de9-4064-b914-3afe26c78d1d",
   "metadata": {},
   "source": [
    "Q9 Write a code to print odd numbers from 1 to 100 using list comprehension."
   ]
  },
  {
   "cell_type": "code",
   "execution_count": 19,
   "id": "290ae856-2291-477e-b1eb-218be92b4c37",
   "metadata": {},
   "outputs": [
    {
     "name": "stdout",
     "output_type": "stream",
     "text": [
      "[1, 3, 5, 7, 9, 11, 13, 15, 17, 19, 21, 23, 25, 27, 29, 31, 33, 35, 37, 39, 41, 43, 45, 47, 49, 51, 53, 55, 57, 59, 61, 63, 65, 67, 69, 71, 73, 75, 77, 79, 81, 83, 85, 87, 89, 91, 93, 95, 97, 99]\n"
     ]
    }
   ],
   "source": [
    "odd_number=[char for char in range(1,101) if char%2==1]\n",
    "print(odd_number)"
   ]
  }
 ],
 "metadata": {
  "kernelspec": {
   "display_name": "Python 3 (ipykernel)",
   "language": "python",
   "name": "python3"
  },
  "language_info": {
   "codemirror_mode": {
    "name": "ipython",
    "version": 3
   },
   "file_extension": ".py",
   "mimetype": "text/x-python",
   "name": "python",
   "nbconvert_exporter": "python",
   "pygments_lexer": "ipython3",
   "version": "3.10.8"
  }
 },
 "nbformat": 4,
 "nbformat_minor": 5
}
