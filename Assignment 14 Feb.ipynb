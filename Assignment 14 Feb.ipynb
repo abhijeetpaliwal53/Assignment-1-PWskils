{
 "cells": [
  {
   "cell_type": "raw",
   "id": "cddb1cc1-e78e-4360-b533-6db9bd227c20",
   "metadata": {},
   "source": [
    "# Q1. What is multithreading in python? hy is it used? Name the module used to handle threads in python"
   ]
  },
  {
   "cell_type": "markdown",
   "id": "5dfffbeb-0e77-49a8-a7d5-4a20a6691a70",
   "metadata": {},
   "source": [
    "Multithreading in Python refers to the ability of a program to execute multiple threads concurrently, allowing for parallel execution of tasks. A thread is a lightweight subprocess within a process, and multithreading enables different parts of a program to run independently.\n",
    "\n",
    "Multithreading is used in Python for several reasons:\n",
    "\n",
    "Concurrency: By using multiple threads, a program can execute multiple tasks simultaneously, thereby achieving concurrency. This is particularly useful in scenarios where tasks can be performed independently or when waiting for certain operations (such as I/O) to complete.\n",
    "\n",
    "Responsiveness: Multithreading helps in keeping a program responsive to user interactions. For example, in a graphical user interface (GUI) application, using threads allows the user interface to remain interactive while performing time-consuming tasks in the background.\n",
    "\n",
    "Utilizing CPU Cores: Multithreading can leverage multiple CPU cores, enabling efficient utilization of hardware resources. This is especially beneficial in computationally intensive applications where parallel processing can significantly speed up the execution.\n",
    "\n",
    "Python provides a built-in module called threading to handle threads. The threading module allows the creation, management, and synchronization of threads in Python. Here's an example that demonstrates the usage of the threading module:"
   ]
  },
  {
   "cell_type": "code",
   "execution_count": 1,
   "id": "53dbf02b-a13a-4127-b0a3-814611507884",
   "metadata": {},
   "outputs": [
    {
     "name": "stdout",
     "output_type": "stream",
     "text": [
      "Thread 1 : 1\n",
      "Thread 1 : 2\n",
      "Thread 1 : 3\n",
      "Thread 1 : 4\n",
      "Thread 1 : 5\n",
      "Thread 1 : 6\n",
      "Thread 1 : 7\n",
      "Thread 1 : 8\n",
      "Thread 1 : 9\n",
      "New_thread : 1\n",
      "New_thread : 2\n",
      "New_thread : 3\n",
      "New_thread : 4\n"
     ]
    }
   ],
   "source": [
    "import threading\n",
    "\n",
    "def print_number():\n",
    "    for i in range(1,10):\n",
    "        print(f\"Thread 1 : {i}\")\n",
    "        \n",
    "thread_1=threading.Thread(target=print_number)\n",
    "thread_1.start()\n",
    "\n",
    "for i in range(1,5):\n",
    "    print(f\"New_thread : {i}\")"
   ]
  },
  {
   "cell_type": "raw",
   "id": "9909eee9-f73f-4952-8ea4-d4fc5c1418c6",
   "metadata": {},
   "source": [
    "# Q2. Why threading module used? rite the use of the following functions\n",
    "# a activeCount\n",
    "# b currentThread\n",
    "# c enumerate"
   ]
  },
  {
   "cell_type": "raw",
   "id": "1ea0d87d-a976-4e94-a88a-d1300a3b2759",
   "metadata": {},
   "source": [
    "The threading module in Python is used to implement multitasking, allowing multiple threads of execution to run concurrently within a single process. It provides a way to achieve parallelism in Python by dividing the program into smaller threads, each of which can execute independently. Threads can perform tasks simultaneously, making it possible to handle multiple operations concurrently and improve overall program efficiency.\n",
    "\n",
    "activeCount() = This function is used to retrieve the current number of thread objects that are active and running. It returns the total count of all thread objects, including the main thread. The activeCount() function is helpful for monitoring the number of active threads in a program."
   ]
  },
  {
   "cell_type": "code",
   "execution_count": 2,
   "id": "2e7f6db9-bfa3-4f4b-b74a-011f32d59928",
   "metadata": {},
   "outputs": [
    {
     "name": "stdout",
     "output_type": "stream",
     "text": [
      "number of active thread :  8\n",
      "this is a thread\n",
      "this is a thread\n",
      "number of active thread :  8\n"
     ]
    },
    {
     "name": "stderr",
     "output_type": "stream",
     "text": [
      "/tmp/ipykernel_230/1751842143.py:7: DeprecationWarning: activeCount() is deprecated, use active_count() instead\n",
      "  print(\"number of active thread : \", threading.activeCount())\n",
      "/tmp/ipykernel_230/1751842143.py:15: DeprecationWarning: activeCount() is deprecated, use active_count() instead\n",
      "  print(\"number of active thread : \", threading.activeCount())\n"
     ]
    }
   ],
   "source": [
    "import threading\n",
    "\n",
    "def my_function():\n",
    "    print(\"this is a thread\")\n",
    "    \n",
    "def main():\n",
    "    print(\"number of active thread : \", threading.activeCount())\n",
    "    \n",
    "    thread1=threading.Thread(target=my_function)\n",
    "    thread2=threading.Thread(target=my_function)\n",
    "    \n",
    "    thread1.start()\n",
    "    thread2.start()\n",
    "    \n",
    "    print(\"number of active thread : \", threading.activeCount())\n",
    "    \n",
    "if __name__==\"__main__\":\n",
    "    main()"
   ]
  },
  {
   "cell_type": "raw",
   "id": "865eda61-63c2-4689-92e4-5599ed3bf8f7",
   "metadata": {},
   "source": [
    "CurrentThread()= This function returns the current thread object, which represents the thread from which it is called. It provides information about the current thread, such as its name, identification number, and other attributes. currentThread() is useful for obtaining details about the thread currently executing the code."
   ]
  },
  {
   "cell_type": "code",
   "execution_count": 3,
   "id": "ec5a96f5-5ed8-4686-b6ee-bcfe84a3f5b4",
   "metadata": {},
   "outputs": [
    {
     "name": "stdout",
     "output_type": "stream",
     "text": [
      "Thread name: Thread 1\n",
      "Thread ID: 140434282112576\n",
      "Thread name: Thread 2\n",
      "Thread ID: 140434282112576\n"
     ]
    },
    {
     "name": "stderr",
     "output_type": "stream",
     "text": [
      "/tmp/ipykernel_230/147604675.py:4: DeprecationWarning: currentThread() is deprecated, use current_thread() instead\n",
      "  current_thread = threading.currentThread()\n"
     ]
    }
   ],
   "source": [
    "import threading\n",
    "\n",
    "def my_function():\n",
    "    current_thread = threading.currentThread()\n",
    "    print(\"Thread name:\", current_thread.name)\n",
    "    print(\"Thread ID:\", current_thread.ident)\n",
    "\n",
    "def main():\n",
    "    thread1 = threading.Thread(target=my_function, name=\"Thread 1\")\n",
    "    thread2 = threading.Thread(target=my_function, name=\"Thread 2\")\n",
    "\n",
    "    thread1.start()\n",
    "    thread2.start()\n",
    "\n",
    "if __name__ == \"__main__\":\n",
    "    main()"
   ]
  },
  {
   "cell_type": "raw",
   "id": "521b0384-32fc-4963-adbc-85fac404c870",
   "metadata": {},
   "source": [
    "enumerate() = The enumerate() function returns a list of all Thread objects currently active in the program. It provides an iterable containing all active threads, allowing you to access and manipulate them. This function is helpful when you want to iterate over all threads and perform operations on them."
   ]
  },
  {
   "cell_type": "code",
   "execution_count": null,
   "id": "fc7221c1-8c67-475b-8e71-c57dc100e7f1",
   "metadata": {},
   "outputs": [
    {
     "name": "stdout",
     "output_type": "stream",
     "text": [
      "number of active thread :  8\n",
      "worker thread executing\n",
      "worker thread executing\n",
      "worker thread executing\n"
     ]
    },
    {
     "name": "stderr",
     "output_type": "stream",
     "text": [
      "/tmp/ipykernel_230/1364278041.py:18: DeprecationWarning: currentThread() is deprecated, use current_thread() instead\n",
      "  if thread != threading.currentThread():\n"
     ]
    },
    {
     "name": "stdout",
     "output_type": "stream",
     "text": [
      "worker thread exiting\n",
      "worker thread exiting\n",
      "worker thread exiting\n"
     ]
    }
   ],
   "source": [
    "import threading\n",
    "import time\n",
    "\n",
    "def worker():\n",
    "    print(\"worker thread executing\")\n",
    "    time.sleep(2)\n",
    "    print(\"worker thread exiting\")\n",
    "    \n",
    "def main():\n",
    "    threads=threading.enumerate()\n",
    "    print(\"number of active thread : \", len(threads))\n",
    "    \n",
    "    for i in range(3):\n",
    "        thread=threading.Thread(target=worker)\n",
    "        thread.start()\n",
    "        \n",
    "    for thread in threading.enumerate():\n",
    "        if thread != threading.currentThread():\n",
    "            thread.join()\n",
    "\n",
    "    print(\"All threads have exited.\")\n",
    "\n",
    "if __name__ == \"__main__\":\n",
    "    main()"
   ]
  },
  {
   "cell_type": "raw",
   "id": "c8946436-8956-4ef3-97d8-73be35c92db5",
   "metadata": {},
   "source": [
    "#Q3 Explain the following functions\n",
    "#(run)\n",
    "#(start)\n",
    "#(join)\n",
    "#(isAlive)"
   ]
  },
  {
   "cell_type": "raw",
   "id": "7137a5e0-c5e3-4854-95d9-179b0eb0461f",
   "metadata": {},
   "source": [
    "run(): The run() function is used to start the execution of a separate thread of control in Python. It is typically used when working with multi-threading, where you want to perform multiple tasks concurrently. When you call the run() function on a thread object, it will execute the code defined in the run() method of that object. This allows you to run multiple threads simultaneously and achieve parallelism in your program.\n",
    "\n",
    "start(): The start() function is used to begin the execution of a thread in Python. When you call start() on a thread object, it initiates the thread's execution by calling its run() method. This function essentially tells the thread to start running and allows it to begin executing the code in its run() method.\n",
    "\n",
    "join(): The join() function is used to synchronize the execution of multiple threads in Python. When you call join() on a thread object, it blocks the calling thread until the thread being joined completes its execution. This means that the program will wait at that point until the joined thread finishes. It is often used when you want to wait for a specific thread to complete before proceeding further in the main program.\n",
    "\n",
    "isAlive(): The isAlive() function is used to check whether a thread is currently active or not in Python. When you call isAlive() on a thread object, it returns True if the thread is still running or False if it has completed its execution. This function is useful when you want to determine the status of a thread and take appropriate actions based on its state."
   ]
  },
  {
   "cell_type": "code",
   "execution_count": null,
   "id": "f1174f1a-8295-43e6-b2c7-58085f15b1cf",
   "metadata": {},
   "outputs": [],
   "source": [
    "import threading\n",
    "\n",
    "def my_function():\n",
    "    print(\"thread start\")\n",
    "    \n",
    "my_thread=threading.Thread(target=my_function)\n",
    "\n",
    "my_thread.start()\n",
    "\n",
    "if my_thread.is_Alive():\n",
    "    print(\"thread is still working\")\n",
    "else:\n",
    "    print(\"thread is not working\")\n",
    "    \n",
    "my_thread.join()\n",
    "print(\"main program continues..\")"
   ]
  },
  {
   "cell_type": "raw",
   "id": "11c0a287-19fe-4a05-ba2d-66428a3d5314",
   "metadata": {},
   "source": [
    "#Q4 write a python program to create two threads. \n",
    "#Thread one must print the list of squares and thread two must print the list of cubes"
   ]
  },
  {
   "cell_type": "code",
   "execution_count": null,
   "id": "f95f6288-bc87-4ee7-b5b3-56f30ee099dd",
   "metadata": {},
   "outputs": [],
   "source": [
    "import threading\n",
    "def print_squre():\n",
    "    squres=[x**2 for x in range (1,10)]\n",
    "    for squre in squres:\n",
    "        print(squre)\n",
    "        \n",
    "def print_cube():\n",
    "    cubes=[x**3 for x in range (1,10)]\n",
    "    for cube in cubes:\n",
    "        print(cube)\n",
    "        \n",
    "if __name__ == \"__main__\":    \n",
    "        \n",
    "    thread1=threading.Thread(target=print_squre)\n",
    "    thread2=threading.Thread(target=print_cube)\n",
    "\n",
    "    thread1.start()\n",
    "    thread2.start()\n",
    "\n",
    "    thread1.join()\n",
    "    thread2.join()"
   ]
  },
  {
   "cell_type": "raw",
   "id": "47f979e9-30fc-468e-93ae-dca8ec8e6ee6",
   "metadata": {},
   "source": [
    "#Q5 State advantages and disadvantages of multithreading"
   ]
  },
  {
   "cell_type": "raw",
   "id": "b3bb8897-a388-4be3-b221-15aa75855a6e",
   "metadata": {},
   "source": [
    "Advantages of multithreading:\n",
    "\n",
    "Improved performance: Multithreading allows multiple threads to execute concurrently, which can lead to better CPU utilization and faster execution times.\n",
    "Responsiveness: Multithreading enables an application to remain responsive even when certain threads are blocked or performing lengthy operations.\n",
    "Resource sharing: Threads within the same process can share the same memory space, allowing efficient communication and data sharing between threads.\n",
    "Simplified programming: Multithreading can simplify the programming model for certain types of applications by dividing complex tasks into smaller, more manageable threads."
   ]
  },
  {
   "cell_type": "code",
   "execution_count": null,
   "id": "905e4393-3789-42bc-b32a-22c1e3f7ff32",
   "metadata": {},
   "outputs": [],
   "source": [
    "import threading\n",
    "\n",
    "def print_number():\n",
    "    for i in range (1,6):\n",
    "        print(i)\n",
    "        \n",
    "def print_letter():\n",
    "    for letter in [\"A\",\"B\",\"C\",\"D\",\"E\"]:\n",
    "        print(letter)\n",
    "        \n",
    "thread1=threading.Thread(target=print_number)\n",
    "thread2=threading.Thread(target=print_letter)\n",
    "\n",
    "thread1.start()\n",
    "thread2.start()\n",
    "\n",
    "thread1.join()\n",
    "thread2.join()"
   ]
  },
  {
   "cell_type": "raw",
   "id": "ef7286e6-59db-420a-a93a-ab5015f788da",
   "metadata": {},
   "source": [
    "Disadvantages of multithreading:\n",
    "\n",
    "Complexity: Multithreading introduces additional complexity, such as race conditions, deadlocks, and synchronization issues, which can be difficult to debug and resolve.\n",
    "Increased resource usage: Each thread requires its own stack and resources, which can consume more memory and CPU time compared to a single-threaded application.\n",
    "Reduced determinism: The execution order and timing of threads can be unpredictable, which can make the behavior of a multithreaded program harder to reason about and debug.\n",
    "Difficulty in parallelizing certain tasks: Not all tasks can be easily divided and parallelized into multiple threads, and some tasks may even become slower when executed in parallel due to overhead and contention."
   ]
  },
  {
   "cell_type": "raw",
   "id": "872f52af-7812-48f6-8d1e-eba2082be9b2",
   "metadata": {},
   "source": [
    "#6 Explain deadlocks and race conditions. "
   ]
  },
  {
   "cell_type": "raw",
   "id": "5ceb74fe-1f02-449a-819f-034d7c8a5c7e",
   "metadata": {},
   "source": [
    "Deadlocks and race conditions are two common problems in concurrent programming that can cause unexpected behavior and lead to program errors.\n",
    "\n",
    "A deadlock occurs when two or more processes or threads are unable to proceed because each is waiting for the other to release a resource. This situation can arise when a program involves multiple resources, and different processes acquire and hold some resources while waiting for others. As a result, none of the processes can continue execution, leading to a deadlock. Deadlocks can be caused by various factors, such as resource competition, synchronization issues, or programming errors.\n",
    "\n",
    "On the other hand, a race condition is a situation in which the behavior of a program depends on the relative timing or interleaving of multiple threads or processes. When multiple threads or processes access shared resources or variables concurrently, the outcome of their execution can become unpredictable. A race condition occurs when the final outcome of the program depends on the specific order in which these concurrent operations are executed. This can result in incorrect data, inconsistent state, or unexpected errors."
   ]
  },
  {
   "cell_type": "code",
   "execution_count": null,
   "id": "adac1e30-4984-4d1a-afff-a1b4c2f36f3a",
   "metadata": {},
   "outputs": [],
   "source": [
    "# Example of a deadlock\n",
    "import threading\n",
    "\n",
    "# Create two resources\n",
    "resource1 = threading.Lock()\n",
    "resource2 = threading.Lock()\n",
    "\n",
    "# Define two threads that acquire resources in different order\n",
    "def thread1():\n",
    "    resource1.acquire()\n",
    "    resource2.acquire()\n",
    "    resource2.release()\n",
    "    resource1.release()\n",
    "\n",
    "def thread2():\n",
    "    resource2.acquire()\n",
    "    resource1.acquire()\n",
    "    resource1.release()\n",
    "    resource2.release()\n",
    "\n",
    "# Create and start the threads\n",
    "t1 = threading.Thread(target=thread1)\n",
    "t2 = threading.Thread(target=thread2)\n",
    "t1.start()\n",
    "t2.start()\n",
    "t1.join()\n",
    "t2.join()\n",
    "\n",
    "\n",
    "# Example of a race condition\n",
    "import time\n",
    "\n",
    "# Shared variable\n",
    "counter = 0\n",
    "\n",
    "# Define a function that increments the counter\n",
    "def increment():\n",
    "    global counter\n",
    "    temp = counter\n",
    "    time.sleep(0.001)  # Simulate some processing time\n",
    "    counter = temp + 1\n",
    "\n",
    "# Create and start multiple threads that increment the counter\n",
    "threads = []\n",
    "for _ in range(10):\n",
    "    t = threading.Thread(target=increment)\n",
    "    t.start()\n",
    "    threads.append(t)\n",
    "\n",
    "# Wait for all threads to complete\n",
    "for t in threads:\n",
    "    t.join()\n",
    "\n",
    "print(counter)"
   ]
  }
 ],
 "metadata": {
  "kernelspec": {
   "display_name": "Python 3 (ipykernel)",
   "language": "python",
   "name": "python3"
  },
  "language_info": {
   "codemirror_mode": {
    "name": "ipython",
    "version": 3
   },
   "file_extension": ".py",
   "mimetype": "text/x-python",
   "name": "python",
   "nbconvert_exporter": "python",
   "pygments_lexer": "ipython3",
   "version": "3.10.8"
  }
 },
 "nbformat": 4,
 "nbformat_minor": 5
}
