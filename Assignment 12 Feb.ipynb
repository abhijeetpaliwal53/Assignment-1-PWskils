{
 "cells": [
  {
   "cell_type": "raw",
   "id": "f06f1949-dc99-43a0-9553-ddb92d01f8b6",
   "metadata": {},
   "source": [
    "Q1 - What is an Exception in python? Write the difference between Exceptions and syntx errors"
   ]
  },
  {
   "cell_type": "raw",
   "id": "7caa393c-8c58-4ba1-ac14-336ea3c3b2a9",
   "metadata": {},
   "source": [
    "Ans 1 - An Exception in Python refers to an event that occurs during the execution of a program, which disrupts the normal flow of the program's instructions. It is an object that represents an exceptional condition or error that can happen during the program's execution.\n",
    "\n",
    "Exceptions can occur for various reasons, such as accessing an undefined variable, dividing a number by zero, or opening a file that doesn't exist. When an exception occurs, Python generates an exception object and halts the execution of the program, unless the exception is caught and handled by appropriate code.\n",
    "\n",
    "On the other hand, syntax errors are different from exceptions. Syntax errors occur when you violate the rules of Python's syntax, meaning that your code doesn't follow the proper structure and grammar of the language. These errors are typically detected by the Python interpreter during the parsing stage, before the program's execution begins.\n",
    "\n",
    "Syntax errors commonly occur due to missing or incorrect punctuation, misspelled keywords, or incorrect indentation. Unlike exceptions, syntax errors prevent the program from running at all because the Python interpreter cannot understand the code.\n",
    "\n",
    "To summarize, the key difference between exceptions and syntax errors in Python is that exceptions are runtime errors that occur during program execution, while syntax errors are detected by the interpreter before the program starts running, due to violations of the language's syntax rules."
   ]
  },
  {
   "cell_type": "raw",
   "id": "323bdeb7-9c7f-485b-bcf8-1e93faaf6adb",
   "metadata": {},
   "source": [
    "Q2 - What hppens when an exception is not handled? Explain with an example"
   ]
  },
  {
   "cell_type": "raw",
   "id": "bf58d6bd-8519-47ec-bfec-4837f9040684",
   "metadata": {},
   "source": [
    "Ans 2 - When an exception is not handled in Python, it leads to the termination of the program's normal flow and the generation of an error message. This abrupt termination is known as an \"unhandled exception.\" Let me explain with an example:\n",
    "\n",
    "Suppose we have a Python program that divides two numbers provided by the user. Let's say the user enters the divisor as 0, which is an invalid input. If this exception is not handled in the code, it will result in an unhandled exception."
   ]
  },
  {
   "cell_type": "code",
   "execution_count": 3,
   "id": "d6d4ec63-cb04-4cd4-a0a1-022760ec6c26",
   "metadata": {},
   "outputs": [
    {
     "name": "stdin",
     "output_type": "stream",
     "text": [
      "please enter numerator 3\n",
      "please enter divisor 0\n"
     ]
    },
    {
     "ename": "ZeroDivisionError",
     "evalue": "division by zero",
     "output_type": "error",
     "traceback": [
      "\u001b[0;31m---------------------------------------------------------------------------\u001b[0m",
      "\u001b[0;31mZeroDivisionError\u001b[0m                         Traceback (most recent call last)",
      "Cell \u001b[0;32mIn[3], line 3\u001b[0m\n\u001b[1;32m      1\u001b[0m numerator\u001b[38;5;241m=\u001b[39m\u001b[38;5;28mint\u001b[39m(\u001b[38;5;28minput\u001b[39m(\u001b[38;5;124m\"\u001b[39m\u001b[38;5;124mplease enter numerator\u001b[39m\u001b[38;5;124m\"\u001b[39m))\n\u001b[1;32m      2\u001b[0m divisor\u001b[38;5;241m=\u001b[39m\u001b[38;5;28mint\u001b[39m(\u001b[38;5;28minput\u001b[39m(\u001b[38;5;124m\"\u001b[39m\u001b[38;5;124mplease enter divisor\u001b[39m\u001b[38;5;124m\"\u001b[39m))\n\u001b[0;32m----> 3\u001b[0m result\u001b[38;5;241m=\u001b[39m\u001b[43mnumerator\u001b[49m\u001b[38;5;241;43m/\u001b[39;49m\u001b[43mdivisor\u001b[49m\n",
      "\u001b[0;31mZeroDivisionError\u001b[0m: division by zero"
     ]
    }
   ],
   "source": [
    "numerator=int(input(\"please enter numerator\"))\n",
    "divisor=int(input(\"please enter divisor\"))\n",
    "result=numerator/divisor"
   ]
  },
  {
   "cell_type": "raw",
   "id": "d9d13094-5d4c-4fa3-9ce1-fb74322b7d41",
   "metadata": {},
   "source": [
    "Q3 - Which Python statements are used to catch and handle exceptions? Explain with an example"
   ]
  },
  {
   "cell_type": "raw",
   "id": "4a4346b9-c041-49d6-9a04-6024d36c96c6",
   "metadata": {},
   "source": [
    "Ans 3 - The try statement is used to enclose a block of code that might raise an exception. It is followed by one or more except statements, which specify the types of exceptions to catch and how to handle them. If an exception occurs within the try block, Python will jump to the corresponding except block."
   ]
  },
  {
   "cell_type": "code",
   "execution_count": 4,
   "id": "ebb44677-c2cd-4d31-868e-f0ce2749de1a",
   "metadata": {},
   "outputs": [
    {
     "name": "stdin",
     "output_type": "stream",
     "text": [
      "please enter numerator 3\n",
      "please enter divisor 0\n"
     ]
    },
    {
     "name": "stdout",
     "output_type": "stream",
     "text": [
      "not divisible by zero\n",
      "always print\n"
     ]
    }
   ],
   "source": [
    "try:\n",
    "    numerator=int(input(\"please enter numerator\"))\n",
    "    divisor=int(input(\"please enter divisor\"))\n",
    "    result=numerator/divisor\n",
    "    \n",
    "except ZeroDivisionError:\n",
    "    print(\"not divisible by zero\")\n",
    "    \n",
    "else:\n",
    "    print(\"No exceptions occurred\")\n",
    "    \n",
    "finally:\n",
    "    print(\"always print\")"
   ]
  },
  {
   "cell_type": "raw",
   "id": "9a83ef6b-ab9a-4fc0-8081-bf02bc889417",
   "metadata": {},
   "source": [
    "Q4 - Explain with an exmple:\n",
    "a) try and else\n",
    "b) finally\n",
    "c) raise"
   ]
  },
  {
   "cell_type": "raw",
   "id": "383e1d6d-f6c2-4fb0-87d4-b1a27ef231fe",
   "metadata": {},
   "source": [
    "Ans 4 - Try and Except: The try and except statements are used for handling exceptions or errors in Python. They allow you to catch and handle specific types of errors that may occur during the execution of your code."
   ]
  },
  {
   "cell_type": "code",
   "execution_count": null,
   "id": "373d6987-4994-435a-942c-111211d63c20",
   "metadata": {},
   "outputs": [
    {
     "name": "stdin",
     "output_type": "stream",
     "text": [
      "please enter numerator 53\n",
      "please enter divisor 5.3\n"
     ]
    },
    {
     "name": "stdout",
     "output_type": "stream",
     "text": [
      "Invalid Value, please enter a valid number\n"
     ]
    }
   ],
   "source": [
    "try:\n",
    "    numerator=int(input(\"please enter numerator\"))\n",
    "    divisor=int(input(\"please enter divisor\"))\n",
    "    result=numerator/divisor\n",
    "    \n",
    "except ValueError:\n",
    "    print(\"Invalid Value, please enter a valid number\")\n",
    "except ZeroDivisionError:\n",
    "    print(\"not divisible by zero\")"
   ]
  },
  {
   "cell_type": "raw",
   "id": "50943354-469c-4803-8bd4-a7dc0aa9a858",
   "metadata": {},
   "source": [
    "Else: The else statement is used in conjunction with the try and except statements. It allows you to specify a block of code to execute when no exceptions are raised in the try block."
   ]
  },
  {
   "cell_type": "code",
   "execution_count": 11,
   "id": "f4b3b059-670f-430e-97ad-73a43c2e3ccb",
   "metadata": {},
   "outputs": [
    {
     "name": "stdin",
     "output_type": "stream",
     "text": [
      "please enter numerator 53\n",
      "please enter divisor 3\n"
     ]
    },
    {
     "name": "stdout",
     "output_type": "stream",
     "text": [
      "the result is 17.666666666666668\n"
     ]
    }
   ],
   "source": [
    "try:\n",
    "    numerator=int(input(\"please enter numerator\"))\n",
    "    divisor=int(input(\"please enter divisor\"))\n",
    "    result=numerator/divisor\n",
    "    \n",
    "except ValueError:\n",
    "    print(\"Invalid Value, please enter a valid number\")\n",
    "except ZeroDivisionError:\n",
    "    print(\"not divisible by zero\")\n",
    "    \n",
    "else:\n",
    "    print(f\"the result is {result}\")"
   ]
  },
  {
   "cell_type": "raw",
   "id": "a29b49f2-bf9f-4b57-a961-ab53ba8c89a1",
   "metadata": {},
   "source": [
    "Finally: The finally statement is used to define a block of code that will always be executed, regardless of whether an exception is raised or not. It is typically used for tasks that need to be performed regardless of the outcome of the code."
   ]
  },
  {
   "cell_type": "code",
   "execution_count": 12,
   "id": "a89732aa-6e56-4a26-a69a-3cadeed50ed2",
   "metadata": {},
   "outputs": [
    {
     "name": "stdout",
     "output_type": "stream",
     "text": [
      "File not  found\n"
     ]
    },
    {
     "ename": "NameError",
     "evalue": "name 'file' is not defined",
     "output_type": "error",
     "traceback": [
      "\u001b[0;31m---------------------------------------------------------------------------\u001b[0m",
      "\u001b[0;31mNameError\u001b[0m                                 Traceback (most recent call last)",
      "Cell \u001b[0;32mIn[12], line 8\u001b[0m\n\u001b[1;32m      5\u001b[0m     \u001b[38;5;28mprint\u001b[39m(\u001b[38;5;124m\"\u001b[39m\u001b[38;5;124mFile not  found\u001b[39m\u001b[38;5;124m\"\u001b[39m)\n\u001b[1;32m      7\u001b[0m \u001b[38;5;28;01mfinally\u001b[39;00m:\n\u001b[0;32m----> 8\u001b[0m     \u001b[43mfile\u001b[49m\u001b[38;5;241m.\u001b[39mclose()\n",
      "\u001b[0;31mNameError\u001b[0m: name 'file' is not defined"
     ]
    }
   ],
   "source": [
    "try:\n",
    "    file=open(\"sand.txt\",\"r\")\n",
    "    \n",
    "except FileNotFoundError:\n",
    "    print(\"File not  found\")\n",
    "\n",
    "finally:\n",
    "    file.close()"
   ]
  },
  {
   "cell_type": "raw",
   "id": "5aa8d6b9-2b35-495d-a981-120d50c84516",
   "metadata": {},
   "source": [
    "Raise: The raise statement is used to explicitly raise an exception in Python. It allows you to create and raise custom exceptions or raise built-in exceptions to handle specific error conditions."
   ]
  },
  {
   "cell_type": "code",
   "execution_count": 13,
   "id": "7301ae58-feff-43d5-9e4c-a05d9dfe66f2",
   "metadata": {},
   "outputs": [
    {
     "name": "stdout",
     "output_type": "stream",
     "text": [
      "price cant be negative\n"
     ]
    }
   ],
   "source": [
    "def calculate_discount(price):\n",
    "    if price<0:\n",
    "        raise ValueError(\"price cant be negative\")\n",
    "    \n",
    "    elif price==0:\n",
    "        raise ZeroDivisionError(\"price cant be zero\")\n",
    "        \n",
    "    else:\n",
    "        discount=(price*0.1)\n",
    "        return discount\n",
    "    \n",
    "try:\n",
    "    discount_amount=calculate_discount(-100)\n",
    "\n",
    "except ValueError as e:\n",
    "    print(e)"
   ]
  },
  {
   "cell_type": "raw",
   "id": "289e2463-eb77-4c45-ab9e-12f1ef75beb4",
   "metadata": {},
   "source": [
    "Q5 - What are Custom Exceptions in python? Why do we need Custom Exceptions? Explain with an example"
   ]
  },
  {
   "cell_type": "raw",
   "id": "39ea9299-882e-4c0f-88fb-1abd80e49192",
   "metadata": {},
   "source": [
    "Ans 6 - custom exceptions are user-defined exception classes that allow developers to create their own exception types based on their specific needs. While Python provides a set of built-in exceptions, such as ValueError or TypeError, custom exceptions provide a way to handle application-specific errors that may not be covered by the standard exceptions.\n",
    "\n",
    "There are several reasons why we need custom exceptions in Python:\n",
    "\n",
    "Improved Error Handling: By creating custom exceptions, we can make our code more readable and expressive. Instead of using generic exceptions, custom exceptions allow us to provide more specific error messages and handle different types of errors in a more precise manner.\n",
    "\n",
    "Code Organization: Custom exceptions help in organizing code by encapsulating related errors within their own exception class. This makes it easier to manage and maintain the codebase, especially in larger projects.\n",
    "\n",
    "Exception Hierarchy: Custom exceptions can be organized in a hierarchy, where a base exception class can serve as a parent class for more specific exception classes. This allows for better categorization of errors and enables catching exceptions at different levels of granularity."
   ]
  },
  {
   "cell_type": "code",
   "execution_count": 14,
   "id": "f77416ab-f209-4d39-b279-72641c914e18",
   "metadata": {},
   "outputs": [
    {
     "name": "stdout",
     "output_type": "stream",
     "text": [
      "insufficient funds. Additional amount needed : 50\n"
     ]
    }
   ],
   "source": [
    "class InsufficientFundError(Exception):\n",
    "    def __init__(self,amount_needed):\n",
    "        self.amount_needed=amount_needed\n",
    "        super().__init__(f\"insufficient funds. Additional amount needed : {amount_needed}\")\n",
    "        \n",
    "def withdraw_from_account(account_balance, amount):\n",
    "    if account_balance<amount:\n",
    "        raise InsufficientFundError(amount-account_balance)\n",
    "    else:\n",
    "        pass\n",
    "try:\n",
    "    account_balance=100\n",
    "    withraw_amount=150\n",
    "    withdraw_from_account(account_balance, withraw_amount)\n",
    "except InsufficientFundError as e:\n",
    "    print(e)"
   ]
  },
  {
   "cell_type": "raw",
   "id": "b5606177-aeca-41e0-a8e5-c4cd1106abac",
   "metadata": {},
   "source": [
    "Q6 - Create a custom exception class. Use this class to handle an exception"
   ]
  },
  {
   "cell_type": "code",
   "execution_count": 15,
   "id": "e7474052-e0c5-444e-836e-7d1acf2a7e58",
   "metadata": {},
   "outputs": [
    {
     "name": "stdout",
     "output_type": "stream",
     "text": [
      "an error is occured :  Division is not allow by zero\n"
     ]
    }
   ],
   "source": [
    "class Custom_Exception(Exception):\n",
    "    def __init__(self,message):\n",
    "        self.message=message\n",
    "        \n",
    "    def __str__(self):\n",
    "        return self.message\n",
    "    \n",
    "def divide(a,b):\n",
    "    if b==0:\n",
    "        raise Custom_Exception(\"Division is not allow by zero\")\n",
    "        \n",
    "    return a/b\n",
    "try:\n",
    "    result=divide(51,0)\n",
    "    print(result)\n",
    "    \n",
    "except Custom_Exception as e:\n",
    "    print(\"an error is occured : \" ,e)"
   ]
  },
  {
   "cell_type": "code",
   "execution_count": null,
   "id": "07396bfd-5704-4ae1-bb17-1c8578067bfe",
   "metadata": {},
   "outputs": [],
   "source": []
  }
 ],
 "metadata": {
  "kernelspec": {
   "display_name": "Python 3 (ipykernel)",
   "language": "python",
   "name": "python3"
  },
  "language_info": {
   "codemirror_mode": {
    "name": "ipython",
    "version": 3
   },
   "file_extension": ".py",
   "mimetype": "text/x-python",
   "name": "python",
   "nbconvert_exporter": "python",
   "pygments_lexer": "ipython3",
   "version": "3.10.8"
  }
 },
 "nbformat": 4,
 "nbformat_minor": 5
}
